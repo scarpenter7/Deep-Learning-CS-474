{
  "nbformat": 4,
  "nbformat_minor": 0,
  "metadata": {
    "accelerator": "GPU",
    "colab": {
      "name": "DL_Lab10.ipynb",
      "provenance": [],
      "collapsed_sections": [
        "sBOvJdJfkXIL",
        "kFoEeTYHDq2s",
        "7z6g7a_Y84n0",
        "TBigIUFTukeJ",
        "zcz0JGXjxFGe",
        "2vJVbYcAJAf2",
        "gMOzGDND9FD1",
        "eOtl8z8G9wbr",
        "2Krh0eYy18R9",
        "aEDv_-H7BvM0",
        "YH5mQBaa-_0b",
        "XMKRI77_-8nc",
        "qBT5jgifC7Im",
        "_K7F19SPQo6U",
        "9YLXvK51RnuL",
        "AHmjSVf_FNHv",
        "gPXJkNubFyY6",
        "iD45m3IwF9hh",
        "usQE-rSPZq_X",
        "IoA0tZZCa_1k",
        "8pa5vFJ5EUjv"
      ]
    },
    "kernelspec": {
      "display_name": "Python 3",
      "language": "python",
      "name": "python3"
    },
    "language_info": {
      "codemirror_mode": {
        "name": "ipython",
        "version": 3
      },
      "file_extension": ".py",
      "mimetype": "text/x-python",
      "name": "python",
      "nbconvert_exporter": "python",
      "pygments_lexer": "ipython3",
      "version": "3.7.1"
    },
    "widgets": {
      "application/vnd.jupyter.widget-state+json": {
        "ba29a906b99f48a886f7fc5cdc1bc371": {
          "model_module": "@jupyter-widgets/controls",
          "model_name": "HBoxModel",
          "model_module_version": "1.5.0",
          "state": {
            "_view_name": "HBoxView",
            "_dom_classes": [],
            "_model_name": "HBoxModel",
            "_view_module": "@jupyter-widgets/controls",
            "_model_module_version": "1.5.0",
            "_view_count": null,
            "_view_module_version": "1.5.0",
            "box_style": "",
            "layout": "IPY_MODEL_6f25e553d13046348a82c687457b5bf2",
            "_model_module": "@jupyter-widgets/controls",
            "children": [
              "IPY_MODEL_196fdf1a91164ba1985895a3a5a2eb95",
              "IPY_MODEL_d6571eaa72904ed7af9906fb89f88675",
              "IPY_MODEL_6509a08e537e498d911bdd23bda1ece5"
            ]
          }
        },
        "6f25e553d13046348a82c687457b5bf2": {
          "model_module": "@jupyter-widgets/base",
          "model_name": "LayoutModel",
          "model_module_version": "1.2.0",
          "state": {
            "_view_name": "LayoutView",
            "grid_template_rows": null,
            "right": null,
            "justify_content": null,
            "_view_module": "@jupyter-widgets/base",
            "overflow": null,
            "_model_module_version": "1.2.0",
            "_view_count": null,
            "flex_flow": null,
            "width": null,
            "min_width": null,
            "border": null,
            "align_items": null,
            "bottom": null,
            "_model_module": "@jupyter-widgets/base",
            "top": null,
            "grid_column": null,
            "overflow_y": null,
            "overflow_x": null,
            "grid_auto_flow": null,
            "grid_area": null,
            "grid_template_columns": null,
            "flex": null,
            "_model_name": "LayoutModel",
            "justify_items": null,
            "grid_row": null,
            "max_height": null,
            "align_content": null,
            "visibility": null,
            "align_self": null,
            "height": null,
            "min_height": null,
            "padding": null,
            "grid_auto_rows": null,
            "grid_gap": null,
            "max_width": null,
            "order": null,
            "_view_module_version": "1.2.0",
            "grid_template_areas": null,
            "object_position": null,
            "object_fit": null,
            "grid_auto_columns": null,
            "margin": null,
            "display": null,
            "left": null
          }
        },
        "196fdf1a91164ba1985895a3a5a2eb95": {
          "model_module": "@jupyter-widgets/controls",
          "model_name": "HTMLModel",
          "model_module_version": "1.5.0",
          "state": {
            "_view_name": "HTMLView",
            "style": "IPY_MODEL_bacb37c197c74c8eb8d0c68ddfaba3aa",
            "_dom_classes": [],
            "description": "",
            "_model_name": "HTMLModel",
            "placeholder": "​",
            "_view_module": "@jupyter-widgets/controls",
            "_model_module_version": "1.5.0",
            "value": "100%",
            "_view_count": null,
            "_view_module_version": "1.5.0",
            "description_tooltip": null,
            "_model_module": "@jupyter-widgets/controls",
            "layout": "IPY_MODEL_5b00bc03c34e496690d973f6115ce1d4"
          }
        },
        "d6571eaa72904ed7af9906fb89f88675": {
          "model_module": "@jupyter-widgets/controls",
          "model_name": "FloatProgressModel",
          "model_module_version": "1.5.0",
          "state": {
            "_view_name": "ProgressView",
            "style": "IPY_MODEL_5c227cad615141d98ff5aaad67848311",
            "_dom_classes": [],
            "description": "",
            "_model_name": "FloatProgressModel",
            "bar_style": "success",
            "max": 241627721,
            "_view_module": "@jupyter-widgets/controls",
            "_model_module_version": "1.5.0",
            "value": 241627721,
            "_view_count": null,
            "_view_module_version": "1.5.0",
            "orientation": "horizontal",
            "min": 0,
            "description_tooltip": null,
            "_model_module": "@jupyter-widgets/controls",
            "layout": "IPY_MODEL_842dd77094c54b9585ca8c2c0e3be470"
          }
        },
        "6509a08e537e498d911bdd23bda1ece5": {
          "model_module": "@jupyter-widgets/controls",
          "model_name": "HTMLModel",
          "model_module_version": "1.5.0",
          "state": {
            "_view_name": "HTMLView",
            "style": "IPY_MODEL_3742a09fc36949119a7ba97578504a33",
            "_dom_classes": [],
            "description": "",
            "_model_name": "HTMLModel",
            "placeholder": "​",
            "_view_module": "@jupyter-widgets/controls",
            "_model_module_version": "1.5.0",
            "value": " 230M/230M [00:02&lt;00:00, 117MB/s]",
            "_view_count": null,
            "_view_module_version": "1.5.0",
            "description_tooltip": null,
            "_model_module": "@jupyter-widgets/controls",
            "layout": "IPY_MODEL_2f6d921379b4475aab09cd4c76022eb2"
          }
        },
        "bacb37c197c74c8eb8d0c68ddfaba3aa": {
          "model_module": "@jupyter-widgets/controls",
          "model_name": "DescriptionStyleModel",
          "model_module_version": "1.5.0",
          "state": {
            "_view_name": "StyleView",
            "_model_name": "DescriptionStyleModel",
            "description_width": "",
            "_view_module": "@jupyter-widgets/base",
            "_model_module_version": "1.5.0",
            "_view_count": null,
            "_view_module_version": "1.2.0",
            "_model_module": "@jupyter-widgets/controls"
          }
        },
        "5b00bc03c34e496690d973f6115ce1d4": {
          "model_module": "@jupyter-widgets/base",
          "model_name": "LayoutModel",
          "model_module_version": "1.2.0",
          "state": {
            "_view_name": "LayoutView",
            "grid_template_rows": null,
            "right": null,
            "justify_content": null,
            "_view_module": "@jupyter-widgets/base",
            "overflow": null,
            "_model_module_version": "1.2.0",
            "_view_count": null,
            "flex_flow": null,
            "width": null,
            "min_width": null,
            "border": null,
            "align_items": null,
            "bottom": null,
            "_model_module": "@jupyter-widgets/base",
            "top": null,
            "grid_column": null,
            "overflow_y": null,
            "overflow_x": null,
            "grid_auto_flow": null,
            "grid_area": null,
            "grid_template_columns": null,
            "flex": null,
            "_model_name": "LayoutModel",
            "justify_items": null,
            "grid_row": null,
            "max_height": null,
            "align_content": null,
            "visibility": null,
            "align_self": null,
            "height": null,
            "min_height": null,
            "padding": null,
            "grid_auto_rows": null,
            "grid_gap": null,
            "max_width": null,
            "order": null,
            "_view_module_version": "1.2.0",
            "grid_template_areas": null,
            "object_position": null,
            "object_fit": null,
            "grid_auto_columns": null,
            "margin": null,
            "display": null,
            "left": null
          }
        },
        "5c227cad615141d98ff5aaad67848311": {
          "model_module": "@jupyter-widgets/controls",
          "model_name": "ProgressStyleModel",
          "model_module_version": "1.5.0",
          "state": {
            "_view_name": "StyleView",
            "_model_name": "ProgressStyleModel",
            "description_width": "",
            "_view_module": "@jupyter-widgets/base",
            "_model_module_version": "1.5.0",
            "_view_count": null,
            "_view_module_version": "1.2.0",
            "bar_color": null,
            "_model_module": "@jupyter-widgets/controls"
          }
        },
        "842dd77094c54b9585ca8c2c0e3be470": {
          "model_module": "@jupyter-widgets/base",
          "model_name": "LayoutModel",
          "model_module_version": "1.2.0",
          "state": {
            "_view_name": "LayoutView",
            "grid_template_rows": null,
            "right": null,
            "justify_content": null,
            "_view_module": "@jupyter-widgets/base",
            "overflow": null,
            "_model_module_version": "1.2.0",
            "_view_count": null,
            "flex_flow": null,
            "width": null,
            "min_width": null,
            "border": null,
            "align_items": null,
            "bottom": null,
            "_model_module": "@jupyter-widgets/base",
            "top": null,
            "grid_column": null,
            "overflow_y": null,
            "overflow_x": null,
            "grid_auto_flow": null,
            "grid_area": null,
            "grid_template_columns": null,
            "flex": null,
            "_model_name": "LayoutModel",
            "justify_items": null,
            "grid_row": null,
            "max_height": null,
            "align_content": null,
            "visibility": null,
            "align_self": null,
            "height": null,
            "min_height": null,
            "padding": null,
            "grid_auto_rows": null,
            "grid_gap": null,
            "max_width": null,
            "order": null,
            "_view_module_version": "1.2.0",
            "grid_template_areas": null,
            "object_position": null,
            "object_fit": null,
            "grid_auto_columns": null,
            "margin": null,
            "display": null,
            "left": null
          }
        },
        "3742a09fc36949119a7ba97578504a33": {
          "model_module": "@jupyter-widgets/controls",
          "model_name": "DescriptionStyleModel",
          "model_module_version": "1.5.0",
          "state": {
            "_view_name": "StyleView",
            "_model_name": "DescriptionStyleModel",
            "description_width": "",
            "_view_module": "@jupyter-widgets/base",
            "_model_module_version": "1.5.0",
            "_view_count": null,
            "_view_module_version": "1.2.0",
            "_model_module": "@jupyter-widgets/controls"
          }
        },
        "2f6d921379b4475aab09cd4c76022eb2": {
          "model_module": "@jupyter-widgets/base",
          "model_name": "LayoutModel",
          "model_module_version": "1.2.0",
          "state": {
            "_view_name": "LayoutView",
            "grid_template_rows": null,
            "right": null,
            "justify_content": null,
            "_view_module": "@jupyter-widgets/base",
            "overflow": null,
            "_model_module_version": "1.2.0",
            "_view_count": null,
            "flex_flow": null,
            "width": null,
            "min_width": null,
            "border": null,
            "align_items": null,
            "bottom": null,
            "_model_module": "@jupyter-widgets/base",
            "top": null,
            "grid_column": null,
            "overflow_y": null,
            "overflow_x": null,
            "grid_auto_flow": null,
            "grid_area": null,
            "grid_template_columns": null,
            "flex": null,
            "_model_name": "LayoutModel",
            "justify_items": null,
            "grid_row": null,
            "max_height": null,
            "align_content": null,
            "visibility": null,
            "align_self": null,
            "height": null,
            "min_height": null,
            "padding": null,
            "grid_auto_rows": null,
            "grid_gap": null,
            "max_width": null,
            "order": null,
            "_view_module_version": "1.2.0",
            "grid_template_areas": null,
            "object_position": null,
            "object_fit": null,
            "grid_auto_columns": null,
            "margin": null,
            "display": null,
            "left": null
          }
        },
        "7a6b3b47b9774418ac77bd08e3ecf05b": {
          "model_module": "@jupyter-widgets/controls",
          "model_name": "HBoxModel",
          "model_module_version": "1.5.0",
          "state": {
            "_view_name": "HBoxView",
            "_dom_classes": [],
            "_model_name": "HBoxModel",
            "_view_module": "@jupyter-widgets/controls",
            "_model_module_version": "1.5.0",
            "_view_count": null,
            "_view_module_version": "1.5.0",
            "box_style": "",
            "layout": "IPY_MODEL_56cea96d62d94569a77876f3c0e96078",
            "_model_module": "@jupyter-widgets/controls",
            "children": [
              "IPY_MODEL_55bd830f0f154375b03d42721305e016",
              "IPY_MODEL_a9836e2de6dc478bad225bd08565d992",
              "IPY_MODEL_1c9b6c5d5cee4af88e62d8eaacdb0569"
            ]
          }
        },
        "56cea96d62d94569a77876f3c0e96078": {
          "model_module": "@jupyter-widgets/base",
          "model_name": "LayoutModel",
          "model_module_version": "1.2.0",
          "state": {
            "_view_name": "LayoutView",
            "grid_template_rows": null,
            "right": null,
            "justify_content": null,
            "_view_module": "@jupyter-widgets/base",
            "overflow": null,
            "_model_module_version": "1.2.0",
            "_view_count": null,
            "flex_flow": null,
            "width": null,
            "min_width": null,
            "border": null,
            "align_items": null,
            "bottom": null,
            "_model_module": "@jupyter-widgets/base",
            "top": null,
            "grid_column": null,
            "overflow_y": null,
            "overflow_x": null,
            "grid_auto_flow": null,
            "grid_area": null,
            "grid_template_columns": null,
            "flex": null,
            "_model_name": "LayoutModel",
            "justify_items": null,
            "grid_row": null,
            "max_height": null,
            "align_content": null,
            "visibility": null,
            "align_self": null,
            "height": null,
            "min_height": null,
            "padding": null,
            "grid_auto_rows": null,
            "grid_gap": null,
            "max_width": null,
            "order": null,
            "_view_module_version": "1.2.0",
            "grid_template_areas": null,
            "object_position": null,
            "object_fit": null,
            "grid_auto_columns": null,
            "margin": null,
            "display": null,
            "left": null
          }
        },
        "55bd830f0f154375b03d42721305e016": {
          "model_module": "@jupyter-widgets/controls",
          "model_name": "HTMLModel",
          "model_module_version": "1.5.0",
          "state": {
            "_view_name": "HTMLView",
            "style": "IPY_MODEL_eaa72154f8f2436b9034318b717d94b0",
            "_dom_classes": [],
            "description": "",
            "_model_name": "HTMLModel",
            "placeholder": "​",
            "_view_module": "@jupyter-widgets/controls",
            "_model_module_version": "1.5.0",
            "value": "100%",
            "_view_count": null,
            "_view_module_version": "1.5.0",
            "description_tooltip": null,
            "_model_module": "@jupyter-widgets/controls",
            "layout": "IPY_MODEL_3c1c60b519784ef4bf7debb28de3a2a0"
          }
        },
        "a9836e2de6dc478bad225bd08565d992": {
          "model_module": "@jupyter-widgets/controls",
          "model_name": "FloatProgressModel",
          "model_module_version": "1.5.0",
          "state": {
            "_view_name": "ProgressView",
            "style": "IPY_MODEL_fd3cae603a6748e792573a04b2f28d8d",
            "_dom_classes": [],
            "description": "",
            "_model_name": "FloatProgressModel",
            "bar_style": "success",
            "max": 241627721,
            "_view_module": "@jupyter-widgets/controls",
            "_model_module_version": "1.5.0",
            "value": 241627721,
            "_view_count": null,
            "_view_module_version": "1.5.0",
            "orientation": "horizontal",
            "min": 0,
            "description_tooltip": null,
            "_model_module": "@jupyter-widgets/controls",
            "layout": "IPY_MODEL_b95f25b3b41c4c4ebb85c4fa39afeadd"
          }
        },
        "1c9b6c5d5cee4af88e62d8eaacdb0569": {
          "model_module": "@jupyter-widgets/controls",
          "model_name": "HTMLModel",
          "model_module_version": "1.5.0",
          "state": {
            "_view_name": "HTMLView",
            "style": "IPY_MODEL_9104a4e5c9f64c698223e889b5b66e0b",
            "_dom_classes": [],
            "description": "",
            "_model_name": "HTMLModel",
            "placeholder": "​",
            "_view_module": "@jupyter-widgets/controls",
            "_model_module_version": "1.5.0",
            "value": " 230M/230M [00:03&lt;00:00, 91.5MB/s]",
            "_view_count": null,
            "_view_module_version": "1.5.0",
            "description_tooltip": null,
            "_model_module": "@jupyter-widgets/controls",
            "layout": "IPY_MODEL_65d908844c94483983a5e7c5a6f90ff8"
          }
        },
        "eaa72154f8f2436b9034318b717d94b0": {
          "model_module": "@jupyter-widgets/controls",
          "model_name": "DescriptionStyleModel",
          "model_module_version": "1.5.0",
          "state": {
            "_view_name": "StyleView",
            "_model_name": "DescriptionStyleModel",
            "description_width": "",
            "_view_module": "@jupyter-widgets/base",
            "_model_module_version": "1.5.0",
            "_view_count": null,
            "_view_module_version": "1.2.0",
            "_model_module": "@jupyter-widgets/controls"
          }
        },
        "3c1c60b519784ef4bf7debb28de3a2a0": {
          "model_module": "@jupyter-widgets/base",
          "model_name": "LayoutModel",
          "model_module_version": "1.2.0",
          "state": {
            "_view_name": "LayoutView",
            "grid_template_rows": null,
            "right": null,
            "justify_content": null,
            "_view_module": "@jupyter-widgets/base",
            "overflow": null,
            "_model_module_version": "1.2.0",
            "_view_count": null,
            "flex_flow": null,
            "width": null,
            "min_width": null,
            "border": null,
            "align_items": null,
            "bottom": null,
            "_model_module": "@jupyter-widgets/base",
            "top": null,
            "grid_column": null,
            "overflow_y": null,
            "overflow_x": null,
            "grid_auto_flow": null,
            "grid_area": null,
            "grid_template_columns": null,
            "flex": null,
            "_model_name": "LayoutModel",
            "justify_items": null,
            "grid_row": null,
            "max_height": null,
            "align_content": null,
            "visibility": null,
            "align_self": null,
            "height": null,
            "min_height": null,
            "padding": null,
            "grid_auto_rows": null,
            "grid_gap": null,
            "max_width": null,
            "order": null,
            "_view_module_version": "1.2.0",
            "grid_template_areas": null,
            "object_position": null,
            "object_fit": null,
            "grid_auto_columns": null,
            "margin": null,
            "display": null,
            "left": null
          }
        },
        "fd3cae603a6748e792573a04b2f28d8d": {
          "model_module": "@jupyter-widgets/controls",
          "model_name": "ProgressStyleModel",
          "model_module_version": "1.5.0",
          "state": {
            "_view_name": "StyleView",
            "_model_name": "ProgressStyleModel",
            "description_width": "",
            "_view_module": "@jupyter-widgets/base",
            "_model_module_version": "1.5.0",
            "_view_count": null,
            "_view_module_version": "1.2.0",
            "bar_color": null,
            "_model_module": "@jupyter-widgets/controls"
          }
        },
        "b95f25b3b41c4c4ebb85c4fa39afeadd": {
          "model_module": "@jupyter-widgets/base",
          "model_name": "LayoutModel",
          "model_module_version": "1.2.0",
          "state": {
            "_view_name": "LayoutView",
            "grid_template_rows": null,
            "right": null,
            "justify_content": null,
            "_view_module": "@jupyter-widgets/base",
            "overflow": null,
            "_model_module_version": "1.2.0",
            "_view_count": null,
            "flex_flow": null,
            "width": null,
            "min_width": null,
            "border": null,
            "align_items": null,
            "bottom": null,
            "_model_module": "@jupyter-widgets/base",
            "top": null,
            "grid_column": null,
            "overflow_y": null,
            "overflow_x": null,
            "grid_auto_flow": null,
            "grid_area": null,
            "grid_template_columns": null,
            "flex": null,
            "_model_name": "LayoutModel",
            "justify_items": null,
            "grid_row": null,
            "max_height": null,
            "align_content": null,
            "visibility": null,
            "align_self": null,
            "height": null,
            "min_height": null,
            "padding": null,
            "grid_auto_rows": null,
            "grid_gap": null,
            "max_width": null,
            "order": null,
            "_view_module_version": "1.2.0",
            "grid_template_areas": null,
            "object_position": null,
            "object_fit": null,
            "grid_auto_columns": null,
            "margin": null,
            "display": null,
            "left": null
          }
        },
        "9104a4e5c9f64c698223e889b5b66e0b": {
          "model_module": "@jupyter-widgets/controls",
          "model_name": "DescriptionStyleModel",
          "model_module_version": "1.5.0",
          "state": {
            "_view_name": "StyleView",
            "_model_name": "DescriptionStyleModel",
            "description_width": "",
            "_view_module": "@jupyter-widgets/base",
            "_model_module_version": "1.5.0",
            "_view_count": null,
            "_view_module_version": "1.2.0",
            "_model_module": "@jupyter-widgets/controls"
          }
        },
        "65d908844c94483983a5e7c5a6f90ff8": {
          "model_module": "@jupyter-widgets/base",
          "model_name": "LayoutModel",
          "model_module_version": "1.2.0",
          "state": {
            "_view_name": "LayoutView",
            "grid_template_rows": null,
            "right": null,
            "justify_content": null,
            "_view_module": "@jupyter-widgets/base",
            "overflow": null,
            "_model_module_version": "1.2.0",
            "_view_count": null,
            "flex_flow": null,
            "width": null,
            "min_width": null,
            "border": null,
            "align_items": null,
            "bottom": null,
            "_model_module": "@jupyter-widgets/base",
            "top": null,
            "grid_column": null,
            "overflow_y": null,
            "overflow_x": null,
            "grid_auto_flow": null,
            "grid_area": null,
            "grid_template_columns": null,
            "flex": null,
            "_model_name": "LayoutModel",
            "justify_items": null,
            "grid_row": null,
            "max_height": null,
            "align_content": null,
            "visibility": null,
            "align_self": null,
            "height": null,
            "min_height": null,
            "padding": null,
            "grid_auto_rows": null,
            "grid_gap": null,
            "max_width": null,
            "order": null,
            "_view_module_version": "1.2.0",
            "grid_template_areas": null,
            "object_position": null,
            "object_fit": null,
            "grid_auto_columns": null,
            "margin": null,
            "display": null,
            "left": null
          }
        }
      }
    }
  },
  "cells": [
    {
      "cell_type": "markdown",
      "metadata": {
        "id": "rEwpv0GZ_CrT"
      },
      "source": [
        "<a \n",
        "href=\"https://colab.research.google.com/github/wingated/cs474_labs_f2019/blob/master/DL_Lab10.ipynb\"\n",
        "  target=\"_parent\">\n",
        "  <img\n",
        "    src=\"https://colab.research.google.com/assets/colab-badge.svg\"\n",
        "    alt=\"Open In Colab\"/>\n",
        "</a>"
      ]
    },
    {
      "cell_type": "markdown",
      "metadata": {
        "id": "xnoEhAVvBcMj"
      },
      "source": [
        "# Lab 10: Transfer Learning/Fine-Tuning"
      ]
    },
    {
      "cell_type": "markdown",
      "metadata": {
        "id": "sBOvJdJfkXIL"
      },
      "source": [
        "## Description"
      ]
    },
    {
      "cell_type": "markdown",
      "metadata": {
        "id": "GiuvTUWOjtBC"
      },
      "source": [
        "### Objective\n",
        "\n",
        "- Gain experience fine-tuning pre-trained models to domain-specific applications.\n",
        "\n",
        "### Deliverable\n",
        "\n",
        "For this lab you will submit an IPython notebook via Learning Suite. The bulk of the work is in modifying fine-tuning a pre-trained ResNet. Fine-tuning the GPT-2 language model is pretty easy. The provided code works as is; you will just have to swap in your own text dataset.\n",
        "\n",
        "### Grading\n",
        "\n",
        "- 35% Create a dataset class for your own dataset\n",
        "- 35% Create a network class that wraps a pretrained ResNet\n",
        "- 20% Implement unfreezing in the network class\n",
        "- 10% Fine-tune GPT-2 on your own dataset\n",
        "\n",
        "### Tips\n",
        "- Your life will be better if you download a dataset that already has the data in the expected format for ImageFolder (make sure to read the documentation!). The datasets recommended below are in the correct format.\n",
        "- Get the CNN working on the provided dataset (bird species classification) before swapping in your own.\n",
        "- For reference on freezing/unfreezing network weights, see [this github gist](https://gist.github.com/jcjohnson/6e41e8512c17eae5da50aebef3378a4c)\n",
        "- Check PyTorch's documentation to learn the difference between `requires_grad=False` and `requires_grad_(False)`.\n",
        "- For training GPT-2, first try the medium-size (355M parameter) model. If your Colab instance doesn't have enough GPU space, you may need to switch to the small-size (124M parameter) model, but the results will be less impressive."
      ]
    },
    {
      "cell_type": "code",
      "metadata": {
        "id": "dKzRORuLBNLR"
      },
      "source": [
        "from torchvision.models import resnet152\n",
        "from torchvision import transforms, datasets\n",
        "from torch.utils.data import DataLoader, Dataset\n",
        "import torch\n",
        "from torch import optim, nn\n",
        "import zipfile\n",
        "from google.colab import files\n",
        "import os\n",
        "import sys\n",
        "from PIL import Image, ImageOps\n",
        "from tqdm import tqdm\n",
        "import numpy as np\n",
        "from matplotlib import pyplot as plt"
      ],
      "execution_count": 1,
      "outputs": []
    },
    {
      "cell_type": "markdown",
      "metadata": {
        "id": "S4R3D8Mr8b54"
      },
      "source": [
        "## 1 Fine-tune a ResNet for image classification"
      ]
    },
    {
      "cell_type": "markdown",
      "metadata": {
        "id": "kFoEeTYHDq2s"
      },
      "source": [
        "### 1.1 Find a dataset to fine-tune on, and make a Dataset class (1 hr.)"
      ]
    },
    {
      "cell_type": "markdown",
      "metadata": {
        "id": "7z6g7a_Y84n0"
      },
      "source": [
        "#### TODO:"
      ]
    },
    {
      "cell_type": "markdown",
      "metadata": {
        "id": "P8NtFZRd5hcm"
      },
      "source": [
        "- Inherit from torch.utils.data.Dataset\n",
        "- Use a [torchvision.datasets.ImageFolder](https://pytorch.org/docs/stable/torchvision/datasets.html#torchvision.datasets.ImageFolder)\n",
        "- Don't spend too long finding another dataset. Some suggestions that you are free to use:\n",
        " - https://www.kaggle.com/jessicali9530/stanford-dogs-dataset\n",
        " - https://www.kaggle.com/puneet6060/intel-image-classification\n"
      ]
    },
    {
      "cell_type": "markdown",
      "metadata": {
        "id": "TBigIUFTukeJ"
      },
      "source": [
        "#### Help for downloading kaggle datasets\n",
        "Downloading Kaggle datasets requires authentication, so you can't just download from a url. Here are some step-by-step instructions of how to get Kaggle datasets in Colab"
      ]
    },
    {
      "cell_type": "markdown",
      "metadata": {
        "id": "_X29UC6CvwfQ"
      },
      "source": [
        "1. Create an API key in Kaggle\n",
        "    - Click on profile photo\n",
        "    - Go to 'My Account'\n",
        "    - Scroll down to the API access section and click \"Create New API Token\"\n",
        "    - `kaggle.json` is now downloaded to your computer\n",
        "\n",
        "2. Upload the API key and install the Kaggle API client by running the next cell (run it again if it throws an error the first time). Also, `files.upload()` may not work in Firefox. One solution is to expand the Files banner (indicated by the '>' tab on the left side of the page) and use that to upload the key."
      ]
    },
    {
      "cell_type": "code",
      "metadata": {
        "colab": {
          "resources": {
            "http://localhost:8080/nbextensions/google.colab/files.js": {
              "data": "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",
              "ok": true,
              "headers": [
                [
                  "content-type",
                  "application/javascript"
                ]
              ],
              "status": 200,
              "status_text": ""
            }
          },
          "base_uri": "https://localhost:8080/",
          "height": 91
        },
        "id": "Mhjc0pM7jOoZ",
        "outputId": "13e25274-37b4-4d7e-f017-9b672cc90de0"
      },
      "source": [
        "# Run this cell and select the kaggle.json file downloaded\n",
        "# from the Kaggle account settings page.\n",
        "from google.colab import files\n",
        "files.upload()\n",
        "# Next, install the Kaggle API client.\n",
        "!pip install -q kaggle\n",
        "# Let's make sure the kaggle.json file is present.\n",
        "!ls -lha kaggle.json\n",
        "# The Kaggle API client expects this file to be in ~/.kaggle,\n",
        "# so move it there.\n",
        "!mkdir -p ~/.kaggle\n",
        "!mv kaggle.json ~/.kaggle/\n",
        "# This permissions change avoids a warning on Kaggle tool startup.\n",
        "!chmod 600 ~/.kaggle/kaggle.json"
      ],
      "execution_count": 2,
      "outputs": [
        {
          "output_type": "display_data",
          "data": {
            "text/html": [
              "\n",
              "     <input type=\"file\" id=\"files-8edfd083-752d-41a0-9625-920f28849adf\" name=\"files[]\" multiple disabled\n",
              "        style=\"border:none\" />\n",
              "     <output id=\"result-8edfd083-752d-41a0-9625-920f28849adf\">\n",
              "      Upload widget is only available when the cell has been executed in the\n",
              "      current browser session. Please rerun this cell to enable.\n",
              "      </output>\n",
              "      <script src=\"/nbextensions/google.colab/files.js\"></script> "
            ],
            "text/plain": [
              "<IPython.core.display.HTML object>"
            ]
          },
          "metadata": {}
        },
        {
          "output_type": "stream",
          "name": "stdout",
          "text": [
            "Saving kaggle.json to kaggle.json\n",
            "-rw-r--r-- 1 root root 71 Nov  4 20:12 kaggle.json\n"
          ]
        }
      ]
    },
    {
      "cell_type": "markdown",
      "metadata": {
        "id": "AGlIa4SIwEXB"
      },
      "source": [
        "3. Copy the desired dataset locally"
      ]
    },
    {
      "cell_type": "code",
      "metadata": {
        "colab": {
          "base_uri": "https://localhost:8080/"
        },
        "id": "7HtB-XdIr1EE",
        "outputId": "71ff1c53-2ce5-4398-97ea-51582e051324"
      },
      "source": [
        "# Example download command for dataset found here: https://www.kaggle.com/akash2907/bird-species-classification\n",
        "!kaggle datasets download -d akash2907/bird-species-classification"
      ],
      "execution_count": 3,
      "outputs": [
        {
          "output_type": "stream",
          "name": "stdout",
          "text": [
            "Downloading bird-species-classification.zip to /content\n",
            " 99% 1.36G/1.37G [00:32<00:00, 41.2MB/s]\n",
            "100% 1.37G/1.37G [00:33<00:00, 44.6MB/s]\n"
          ]
        }
      ]
    },
    {
      "cell_type": "markdown",
      "metadata": {
        "id": "zcz0JGXjxFGe"
      },
      "source": [
        "#### Make the Dataset class\n",
        "See the implementation below for reference, and implement a dataset class for the dataset you choose."
      ]
    },
    {
      "cell_type": "code",
      "metadata": {
        "colab": {
          "base_uri": "https://localhost:8080/"
        },
        "id": "lthPlsGeK4CX",
        "outputId": "09fa3fca-8f15-4db7-c7c1-36a4819842cd"
      },
      "source": [
        "class BirdDataset(Dataset):\n",
        "    def __init__(self, zip_file='bird-species-classification.zip', size=256, train=True, upload=False):\n",
        "        super(BirdDataset, self).__init__()\n",
        "        \n",
        "        self.train = train\n",
        "        extract_dir = os.path.splitext(zip_file)[0]\n",
        "        if not os.path.exists(extract_dir):\n",
        "            os.makedirs(extract_dir)\n",
        "            self.extract_zip(zip_file, extract_dir)\n",
        "            # Resize the images - originally they are high resolution. We could do this\n",
        "            # in the DataLoader, but it will read the full-resolution files from disk\n",
        "            # every time before resizing them, making training slow\n",
        "            self.resize(extract_dir, size=size)\n",
        "\n",
        "        postfix = 'train' if train else 'test'\n",
        "            \n",
        "        if train:\n",
        "            # The bird-species dataset mistakenly has a train_data folder inside of train_data\n",
        "            self.dataset_folder = datasets.ImageFolder(os.path.join(extract_dir, 'train_data', 'train_data'), transform=transforms.Compose([transforms.ToTensor()]))\n",
        "        else:\n",
        "            self.dataset_folder = datasets.ImageFolder(os.path.join(extract_dir, 'test_data', 'test_data'), transform=transforms.Compose([transforms.ToTensor()]))\n",
        "\n",
        "    def extract_zip(self, zip_file, extract_dir):\n",
        "        print(\"Extracting\", zip_file)\n",
        "        with zipfile.ZipFile(zip_file, 'r') as zip_ref:\n",
        "            zip_ref.extractall(extract_dir)\n",
        "\n",
        "    def resize(self, path, size=256):\n",
        "        \"\"\"Resizes all images in place\"\"\"\n",
        "        print(\"Resizing images\")\n",
        "        dirs = os.walk(path)\n",
        "        for root, dirs, files in os.walk(path):\n",
        "            for item in files:\n",
        "                name = os.path.join(root, item)\n",
        "                if os.path.isfile(name):\n",
        "                    im = Image.open(name)\n",
        "                    im = ImageOps.fit(im, (size, size))\n",
        "                    im.save(name[:-3] + 'bmp', 'BMP')\n",
        "                    os.remove(name)\n",
        "\n",
        "    def __getitem__(self, i):\n",
        "        return self.dataset_folder[i]\n",
        "\n",
        "    def __len__(self):\n",
        "        return len(self.dataset_folder)\n",
        "\n",
        "bird_data = BirdDataset()"
      ],
      "execution_count": 4,
      "outputs": [
        {
          "output_type": "stream",
          "name": "stdout",
          "text": [
            "Extracting bird-species-classification.zip\n",
            "Resizing images\n"
          ]
        }
      ]
    },
    {
      "cell_type": "markdown",
      "metadata": {
        "id": "2vJVbYcAJAf2"
      },
      "source": [
        "### 1.2 Wrap a pretrained ResNet in an `nn.Module` (30 min)"
      ]
    },
    {
      "cell_type": "markdown",
      "metadata": {
        "id": "gMOzGDND9FD1"
      },
      "source": [
        "#### TODO:"
      ]
    },
    {
      "cell_type": "markdown",
      "metadata": {
        "id": "jLvmDHbl9IyG"
      },
      "source": [
        "- Make a model class that inherits from `nn.Module`\n",
        "- Wrap a pretrained ResNet and swap out the last layer of that network with a layer that maps to the number of classes in your new dataset"
      ]
    },
    {
      "cell_type": "markdown",
      "metadata": {
        "id": "eOtl8z8G9wbr"
      },
      "source": [
        "#### Make your model class"
      ]
    },
    {
      "cell_type": "code",
      "metadata": {
        "id": "AY-XU4Mwas0j"
      },
      "source": [
        "class CustomResNet(nn.Module):\n",
        "    def __init__(self, num_classes, start_frozen=False):\n",
        "        super(CustomResNet, self).__init__()\n",
        "\n",
        "        # Part 1.2\n",
        "        # Load the model - make sure it is pre-trained\n",
        "        self.model = resnet152(pretrained=True)        \n",
        "\n",
        "        # Part 1.4\n",
        "        if start_frozen:\n",
        "            # Turn off all gradients of the resnet\n",
        "            for p in self.model.parameters():\n",
        "                p.requires_grad = False\n",
        "        \n",
        "        # Part 1.2\n",
        "        # Look at the code of torchvision.models.resnet152 (or print the ResNet object) to find the name of the attribute to override (the last layer of the ResNet)\n",
        "        # Override the output linear layer of the neural network to map to the correct number of classes. Note that this new layer has requires_grad = True\n",
        "        self.model.fc = nn.Linear(self.model.fc.in_features, num_classes)\n",
        "            \n",
        "            \n",
        "        \n",
        "    def unfreeze(self, n_layers):\n",
        "        # Part 1.4\n",
        "        # Turn on gradients for the last n_layers\n",
        "        for p in list(self.model.parameters())[::-1][2:][:(n_layers*3)]:\n",
        "            p.requires_grad = True\n",
        "\n",
        "    def forward(self, x):\n",
        "        # Part 1.2\n",
        "        # Pass x through the resnet\n",
        "        return self.model(x)"
      ],
      "execution_count": 6,
      "outputs": []
    },
    {
      "cell_type": "code",
      "metadata": {
        "colab": {
          "base_uri": "https://localhost:8080/"
        },
        "id": "NaHpRFaigpWK",
        "outputId": "2d08c2de-7d8e-499e-ce3b-37464025bf44"
      },
      "source": [
        "m = resnet152(pretrained=True)\n",
        "# print(m)\n",
        "print(m.parameters())"
      ],
      "execution_count": 14,
      "outputs": [
        {
          "output_type": "stream",
          "name": "stdout",
          "text": [
            "<generator object Module.parameters at 0x7fb55b1efbd0>\n"
          ]
        }
      ]
    },
    {
      "cell_type": "markdown",
      "metadata": {
        "id": "2Krh0eYy18R9"
      },
      "source": [
        "### 1.3 Read through and run this training loop"
      ]
    },
    {
      "cell_type": "code",
      "metadata": {
        "id": "yOGrrw2gbIPf"
      },
      "source": [
        "def accuracy(y_hat, y_truth):\n",
        "    \"\"\"Gets average accuracy of a vector of predictions\"\"\"\n",
        "    \n",
        "    preds = torch.argmax(y_hat, dim=1)\n",
        "    acc = torch.mean((preds == y_truth).float())\n",
        "    return acc\n",
        "\n",
        "def evaluate(model, objective, val_loader, device):\n",
        "    \"\"\"Gets average accuracy and loss for the validation set\"\"\"\n",
        "\n",
        "    val_losses = 0\n",
        "    val_accs = 0\n",
        "    batches = 0\n",
        "    # model.eval() so that batchnorm and dropout work in eval mode\n",
        "    model.eval()\n",
        "    # torch.no_grad() to turn off computation graph creation. This allows for temporal\n",
        "    # and spatial complexity improvements, which allows for larger validation batch \n",
        "    # sizes so it’s recommended\n",
        "    with torch.no_grad():\n",
        "        for x, y_truth in val_loader:\n",
        "            \n",
        "            batches += 1\n",
        "\n",
        "            x, y_truth = x.to(device), y_truth.to(device)\n",
        "            y_hat = model(x)\n",
        "            val_loss = objective(y_hat, y_truth)\n",
        "            val_acc = accuracy(y_hat, y_truth)\n",
        "\n",
        "            val_losses += val_loss.item()\n",
        "            val_accs += val_acc\n",
        "\n",
        "    model.train()\n",
        "\n",
        "    return val_losses/batches, val_accs/batches"
      ],
      "execution_count": 7,
      "outputs": []
    },
    {
      "cell_type": "code",
      "metadata": {
        "id": "VKESMcKi2E_f"
      },
      "source": [
        "def train(start_frozen=False, model_unfreeze=0):\n",
        "    \"\"\"Fine-tunes a CNN\n",
        "    Args:\n",
        "        start_frozen (bool): whether to start with the network weights frozen.\n",
        "        model_unfreeze (int): the maximum number of network layers to unfreeze\n",
        "    \"\"\"\n",
        "    epochs = 20\n",
        "    # Start with a very low learning rate\n",
        "    lr = .00005\n",
        "    val_every = 3\n",
        "    num_classes = 16\n",
        "    batch_size = 32\n",
        "    device = torch.device('cuda:0')\n",
        "\n",
        "    # Data\n",
        "    # TODO: Use your own dataset\n",
        "    train_dataset = BirdDataset(upload=True, train=True)\n",
        "    val_dataset = BirdDataset(upload=True, train=False)\n",
        "    train_loader = DataLoader(train_dataset,\n",
        "                              shuffle=True,\n",
        "                              num_workers=8,\n",
        "                              batch_size=batch_size)\n",
        "    val_loader = DataLoader(val_dataset,\n",
        "                              shuffle=True,\n",
        "                              num_workers=8,\n",
        "                              batch_size=batch_size)\n",
        "    \n",
        "    # Model\n",
        "    model = CustomResNet(num_classes, start_frozen=start_frozen).to(device)\n",
        "    \n",
        "    # Objective\n",
        "    objective = nn.CrossEntropyLoss()\n",
        "    # Optimizer\n",
        "    optimizer = optim.Adam(model.parameters(), lr=lr, weight_decay=1e-1)\n",
        "\n",
        "    # Progress bar\n",
        "    pbar = tqdm(total=len(train_loader) * epochs)\n",
        "\n",
        "    train_losses = []\n",
        "    train_accs = []\n",
        "    val_losses = []\n",
        "    val_accs = []\n",
        "    \n",
        "    cnt = 0\n",
        "    for epoch in range(epochs):\n",
        "\n",
        "        # Implement model unfreezing\n",
        "        if epoch < model_unfreeze:\n",
        "            # Part 1.4\n",
        "            # Unfreeze the last layers, one more each epoch\n",
        "            model.unfreeze(epoch + 1)\n",
        "        \n",
        "        for x, y_truth in train_loader:\n",
        "        \n",
        "            x, y_truth = x.to(device), y_truth.to(device)\n",
        "\n",
        "            optimizer.zero_grad()\n",
        "\n",
        "            y_hat = model(x)\n",
        "            train_loss = objective(y_hat, y_truth)\n",
        "            train_acc = accuracy(y_hat, y_truth)\n",
        "\n",
        "            train_loss.backward()\n",
        "            optimizer.step()\n",
        "\n",
        "            train_accs.append(train_acc)\n",
        "            train_losses.append(train_loss.item())\n",
        "\n",
        "            if cnt % val_every == 0:\n",
        "                val_loss, val_acc = evaluate(model, objective, val_loader, device)\n",
        "                val_losses.append(val_loss)\n",
        "                val_accs.append(val_acc)\n",
        "\n",
        "            pbar.set_description('train loss:{:.4f}, train accuracy:{:.4f}.'.format(train_loss.item(), train_acc))\n",
        "            pbar.update(1)\n",
        "            cnt += 1\n",
        "\n",
        "    pbar.close()\n",
        "    plt.subplot(121)\n",
        "    plt.plot(np.arange(len(train_accs)), train_accs, label='Train Accuracy')\n",
        "    plt.plot(np.arange(len(train_accs), step=val_every), val_accs, label='Val Accuracy')\n",
        "    plt.legend()\n",
        "    plt.subplot(122)\n",
        "    plt.plot(np.arange(len(train_losses)), train_losses, label='Train Loss')\n",
        "    plt.plot(np.arange(len(train_losses), step=val_every), val_losses, label='Val Loss')\n",
        "    plt.legend()\n",
        "    plt.show()  "
      ],
      "execution_count": 8,
      "outputs": []
    },
    {
      "cell_type": "code",
      "metadata": {
        "colab": {
          "base_uri": "https://localhost:8080/",
          "height": 423,
          "referenced_widgets": [
            "ba29a906b99f48a886f7fc5cdc1bc371",
            "6f25e553d13046348a82c687457b5bf2",
            "196fdf1a91164ba1985895a3a5a2eb95",
            "d6571eaa72904ed7af9906fb89f88675",
            "6509a08e537e498d911bdd23bda1ece5",
            "bacb37c197c74c8eb8d0c68ddfaba3aa",
            "5b00bc03c34e496690d973f6115ce1d4",
            "5c227cad615141d98ff5aaad67848311",
            "842dd77094c54b9585ca8c2c0e3be470",
            "3742a09fc36949119a7ba97578504a33",
            "2f6d921379b4475aab09cd4c76022eb2"
          ]
        },
        "id": "fvnxeLotchiH",
        "outputId": "0df43d4a-6fa8-45f3-b3a0-51278756d76d"
      },
      "source": [
        "train(start_frozen=False, model_unfreeze=0)"
      ],
      "execution_count": 9,
      "outputs": [
        {
          "output_type": "stream",
          "name": "stderr",
          "text": [
            "/usr/local/lib/python3.7/dist-packages/torch/utils/data/dataloader.py:481: UserWarning: This DataLoader will create 8 worker processes in total. Our suggested max number of worker in current system is 2, which is smaller than what this DataLoader is going to create. Please be aware that excessive worker creation might get DataLoader running slow or even freeze, lower the worker number to avoid potential slowness/freeze if necessary.\n",
            "  cpuset_checked))\n",
            "Downloading: \"https://download.pytorch.org/models/resnet152-394f9c45.pth\" to /root/.cache/torch/hub/checkpoints/resnet152-394f9c45.pth\n"
          ]
        },
        {
          "output_type": "display_data",
          "data": {
            "application/vnd.jupyter.widget-view+json": {
              "model_id": "ba29a906b99f48a886f7fc5cdc1bc371",
              "version_minor": 0,
              "version_major": 2
            },
            "text/plain": [
              "  0%|          | 0.00/230M [00:00<?, ?B/s]"
            ]
          },
          "metadata": {}
        },
        {
          "output_type": "stream",
          "name": "stderr",
          "text": [
            "\r  0%|          | 0/100 [00:00<?, ?it/s]/usr/local/lib/python3.7/dist-packages/torch/nn/functional.py:718: UserWarning: Named tensors and all their associated APIs are an experimental feature and subject to change. Please do not use them for anything important until they are released as stable. (Triggered internally at  /pytorch/c10/core/TensorImpl.h:1156.)\n",
            "  return torch.max_pool2d(input, kernel_size, stride, padding, dilation, ceil_mode)\n",
            "train loss:0.1057, train accuracy:1.0000.: 100%|██████████| 100/100 [05:47<00:00,  3.47s/it]\n"
          ]
        },
        {
          "output_type": "display_data",
          "data": {
            "image/png": "[encoded data removed]",
            "text/plain": [
              "<Figure size 432x288 with 2 Axes>"
            ]
          },
          "metadata": {
            "needs_background": "light"
          }
        }
      ]
    },
    {
      "cell_type": "markdown",
      "metadata": {
        "id": "aEDv_-H7BvM0"
      },
      "source": [
        "### 1.4 Implement Unfreezing (1 hr)"
      ]
    },
    {
      "cell_type": "markdown",
      "metadata": {
        "id": "YH5mQBaa-_0b"
      },
      "source": [
        "#### Description"
      ]
    },
    {
      "cell_type": "markdown",
      "metadata": {
        "id": "u_YmE1pe-6LF"
      },
      "source": [
        "Unfreezing is a technique that can be helpful when fine tuning a CNN for a more difficult task with a large amount of data.\n",
        "\n",
        "The idea is that if we allow the network to tweak the earliest layers immediately, before the last FCL has been trained at all, the earliest layers will forget all of the useful features that they learned in order  to provide features that are helpful for the (untrained) FCL.\n",
        "\n",
        "So, rather than training all of the model weights at once, we learn the last fully connected layer, then train that layer together with the second-to-last layer, gradually adding layers until we reach the first layer."
      ]
    },
    {
      "cell_type": "markdown",
      "metadata": {
        "id": "XMKRI77_-8nc"
      },
      "source": [
        "#### TODO:"
      ]
    },
    {
      "cell_type": "markdown",
      "metadata": {
        "id": "KaUc8BTYC1bz"
      },
      "source": [
        "- Modify your model's parameters by setting the `requires_grad` attributes to `False`. (but keep `requires_grad = True` for the last layer).\n",
        "- Add a member function to you model class that allows the user to unfreeze weights in the training loop. See [this github gist](https://gist.github.com/jcjohnson/6e41e8512c17eae5da50aebef3378a4c) for reference.\n",
        "- Modify your training loop to add logic that calls the `unfreeze` function of the model class: unfreeze one layer (a convolutional layer or linear layer, not the sequential or bottleneck layers) every epoch.\n",
        "- Call your train function to fine-tune the ResNet on your dataset."
      ]
    },
    {
      "cell_type": "markdown",
      "metadata": {
        "id": "qBT5jgifC7Im"
      },
      "source": [
        "#### Call your train function"
      ]
    },
    {
      "cell_type": "code",
      "metadata": {
        "id": "Mg9ySEO_BNDx",
        "colab": {
          "base_uri": "https://localhost:8080/",
          "height": 427,
          "referenced_widgets": [
            "7a6b3b47b9774418ac77bd08e3ecf05b",
            "56cea96d62d94569a77876f3c0e96078",
            "55bd830f0f154375b03d42721305e016",
            "a9836e2de6dc478bad225bd08565d992",
            "1c9b6c5d5cee4af88e62d8eaacdb0569",
            "eaa72154f8f2436b9034318b717d94b0",
            "3c1c60b519784ef4bf7debb28de3a2a0",
            "fd3cae603a6748e792573a04b2f28d8d",
            "b95f25b3b41c4c4ebb85c4fa39afeadd",
            "9104a4e5c9f64c698223e889b5b66e0b",
            "65d908844c94483983a5e7c5a6f90ff8"
          ]
        },
        "outputId": "c85ce661-1ff7-48c3-ca5b-17aecac439d9"
      },
      "source": [
        "############################\n",
        "# train with unfreezing here (should be a single call to your train function)\n",
        "############################\n",
        "train(start_frozen=True, model_unfreeze=10)"
      ],
      "execution_count": 9,
      "outputs": [
        {
          "output_type": "stream",
          "name": "stderr",
          "text": [
            "/usr/local/lib/python3.7/dist-packages/torch/utils/data/dataloader.py:481: UserWarning: This DataLoader will create 8 worker processes in total. Our suggested max number of worker in current system is 2, which is smaller than what this DataLoader is going to create. Please be aware that excessive worker creation might get DataLoader running slow or even freeze, lower the worker number to avoid potential slowness/freeze if necessary.\n",
            "  cpuset_checked))\n",
            "Downloading: \"https://download.pytorch.org/models/resnet152-394f9c45.pth\" to /root/.cache/torch/hub/checkpoints/resnet152-394f9c45.pth\n"
          ]
        },
        {
          "output_type": "display_data",
          "data": {
            "application/vnd.jupyter.widget-view+json": {
              "model_id": "7a6b3b47b9774418ac77bd08e3ecf05b",
              "version_minor": 0,
              "version_major": 2
            },
            "text/plain": [
              "  0%|          | 0.00/230M [00:00<?, ?B/s]"
            ]
          },
          "metadata": {}
        },
        {
          "output_type": "stream",
          "name": "stderr",
          "text": [
            "\r  0%|          | 0/100 [00:00<?, ?it/s]/usr/local/lib/python3.7/dist-packages/torch/nn/functional.py:718: UserWarning: Named tensors and all their associated APIs are an experimental feature and subject to change. Please do not use them for anything important until they are released as stable. (Triggered internally at  /pytorch/c10/core/TensorImpl.h:1156.)\n",
            "  return torch.max_pool2d(input, kernel_size, stride, padding, dilation, ceil_mode)\n",
            "train loss:0.2477, train accuracy:1.0000.: 100%|██████████| 100/100 [03:35<00:00,  2.15s/it]\n"
          ]
        },
        {
          "output_type": "display_data",
          "data": {
            "image/png": "[encoded data removed]",
            "text/plain": [
              "<Figure size 432x288 with 2 Axes>"
            ]
          },
          "metadata": {
            "needs_background": "light"
          }
        }
      ]
    },
    {
      "cell_type": "markdown",
      "metadata": {
        "id": "ZItH2lX7k4Yt"
      },
      "source": [
        "You may not see any improvement for your classification task, but unfreezing can help convergence for more difficult image classification tasks."
      ]
    },
    {
      "cell_type": "markdown",
      "metadata": {
        "id": "XAXHAUf3EEiE"
      },
      "source": [
        "## 2 Fine-tune a language model - (15 min)"
      ]
    },
    {
      "cell_type": "markdown",
      "metadata": {
        "id": "yu9usOxtjFHL"
      },
      "source": [
        "In this section you will use the gpt-2-simple package [here](https://github.com/minimaxir/gpt-2-simple) to fine-tune the GPT-2 language model on a domain of your choice."
      ]
    },
    {
      "cell_type": "markdown",
      "metadata": {
        "id": "_K7F19SPQo6U"
      },
      "source": [
        "### 2.1 Generate text from an the pretrained GPT-2 model"
      ]
    },
    {
      "cell_type": "markdown",
      "metadata": {
        "id": "9YLXvK51RnuL"
      },
      "source": [
        "#### Run this code to generate text from a pretrained model"
      ]
    },
    {
      "cell_type": "code",
      "metadata": {
        "id": "WDNOb_H5IRvH",
        "colab": {
          "base_uri": "https://localhost:8080/"
        },
        "outputId": "4c378147-e1fe-4a83-ae27-c4beb5717d8f"
      },
      "source": [
        "!pip install gpt-2-simple\n",
        "\n",
        "# the transformers package is built on top of Tensorflow, and the default TF version \n",
        "# for Colab will soon switch to 2.x. We remedy this with the following magic method\n",
        "%tensorflow_version 1.x \n",
        "\n",
        "import gpt_2_simple as gpt2\n",
        "import os\n",
        "import tensorflow as tf"
      ],
      "execution_count": 2,
      "outputs": [
        {
          "output_type": "stream",
          "name": "stdout",
          "text": [
            "Requirement already satisfied: gpt-2-simple in /usr/local/lib/python3.7/dist-packages (0.8.1)\n",
            "Requirement already satisfied: regex in /usr/local/lib/python3.7/dist-packages (from gpt-2-simple) (2019.12.20)\n",
            "Requirement already satisfied: tensorflow>=2.5.1 in /usr/local/lib/python3.7/dist-packages (from gpt-2-simple) (2.6.0)\n",
            "Requirement already satisfied: numpy in /usr/local/lib/python3.7/dist-packages (from gpt-2-simple) (1.19.5)\n",
            "Requirement already satisfied: tqdm in /usr/local/lib/python3.7/dist-packages (from gpt-2-simple) (4.62.3)\n",
            "Requirement already satisfied: requests in /usr/local/lib/python3.7/dist-packages (from gpt-2-simple) (2.23.0)\n",
            "Requirement already satisfied: toposort in /usr/local/lib/python3.7/dist-packages (from gpt-2-simple) (1.7)\n",
            "Requirement already satisfied: opt-einsum~=3.3.0 in /usr/local/lib/python3.7/dist-packages (from tensorflow>=2.5.1->gpt-2-simple) (3.3.0)\n",
            "Requirement already satisfied: h5py~=3.1.0 in /usr/local/lib/python3.7/dist-packages (from tensorflow>=2.5.1->gpt-2-simple) (3.1.0)\n",
            "Requirement already satisfied: wrapt~=1.12.1 in /usr/local/lib/python3.7/dist-packages (from tensorflow>=2.5.1->gpt-2-simple) (1.12.1)\n",
            "Requirement already satisfied: tensorflow-estimator~=2.6 in /usr/local/lib/python3.7/dist-packages (from tensorflow>=2.5.1->gpt-2-simple) (2.6.0)\n",
            "Requirement already satisfied: wheel~=0.35 in /usr/local/lib/python3.7/dist-packages (from tensorflow>=2.5.1->gpt-2-simple) (0.37.0)\n",
            "Requirement already satisfied: protobuf>=3.9.2 in /usr/local/lib/python3.7/dist-packages (from tensorflow>=2.5.1->gpt-2-simple) (3.17.3)\n",
            "Requirement already satisfied: termcolor~=1.1.0 in /usr/local/lib/python3.7/dist-packages (from tensorflow>=2.5.1->gpt-2-simple) (1.1.0)\n",
            "Requirement already satisfied: absl-py~=0.10 in /usr/local/lib/python3.7/dist-packages (from tensorflow>=2.5.1->gpt-2-simple) (0.12.0)\n",
            "Requirement already satisfied: tensorboard~=2.6 in /usr/local/lib/python3.7/dist-packages (from tensorflow>=2.5.1->gpt-2-simple) (2.6.0)\n",
            "Requirement already satisfied: astunparse~=1.6.3 in /usr/local/lib/python3.7/dist-packages (from tensorflow>=2.5.1->gpt-2-simple) (1.6.3)\n",
            "Requirement already satisfied: grpcio<2.0,>=1.37.0 in /usr/local/lib/python3.7/dist-packages (from tensorflow>=2.5.1->gpt-2-simple) (1.41.0)\n",
            "Requirement already satisfied: flatbuffers~=1.12.0 in /usr/local/lib/python3.7/dist-packages (from tensorflow>=2.5.1->gpt-2-simple) (1.12)\n",
            "Requirement already satisfied: gast==0.4.0 in /usr/local/lib/python3.7/dist-packages (from tensorflow>=2.5.1->gpt-2-simple) (0.4.0)\n",
            "Requirement already satisfied: typing-extensions~=3.7.4 in /usr/local/lib/python3.7/dist-packages (from tensorflow>=2.5.1->gpt-2-simple) (3.7.4.3)\n",
            "Requirement already satisfied: keras-preprocessing~=1.1.2 in /usr/local/lib/python3.7/dist-packages (from tensorflow>=2.5.1->gpt-2-simple) (1.1.2)\n",
            "Requirement already satisfied: google-pasta~=0.2 in /usr/local/lib/python3.7/dist-packages (from tensorflow>=2.5.1->gpt-2-simple) (0.2.0)\n",
            "Requirement already satisfied: six~=1.15.0 in /usr/local/lib/python3.7/dist-packages (from tensorflow>=2.5.1->gpt-2-simple) (1.15.0)\n",
            "Requirement already satisfied: clang~=5.0 in /usr/local/lib/python3.7/dist-packages (from tensorflow>=2.5.1->gpt-2-simple) (5.0)\n",
            "Requirement already satisfied: keras~=2.6 in /usr/local/lib/python3.7/dist-packages (from tensorflow>=2.5.1->gpt-2-simple) (2.6.0)\n",
            "Requirement already satisfied: cached-property in /usr/local/lib/python3.7/dist-packages (from h5py~=3.1.0->tensorflow>=2.5.1->gpt-2-simple) (1.5.2)\n",
            "Requirement already satisfied: google-auth-oauthlib<0.5,>=0.4.1 in /usr/local/lib/python3.7/dist-packages (from tensorboard~=2.6->tensorflow>=2.5.1->gpt-2-simple) (0.4.6)\n",
            "Requirement already satisfied: werkzeug>=0.11.15 in /usr/local/lib/python3.7/dist-packages (from tensorboard~=2.6->tensorflow>=2.5.1->gpt-2-simple) (1.0.1)\n",
            "Requirement already satisfied: tensorboard-data-server<0.7.0,>=0.6.0 in /usr/local/lib/python3.7/dist-packages (from tensorboard~=2.6->tensorflow>=2.5.1->gpt-2-simple) (0.6.1)\n",
            "Requirement already satisfied: tensorboard-plugin-wit>=1.6.0 in /usr/local/lib/python3.7/dist-packages (from tensorboard~=2.6->tensorflow>=2.5.1->gpt-2-simple) (1.8.0)\n",
            "Requirement already satisfied: setuptools>=41.0.0 in /usr/local/lib/python3.7/dist-packages (from tensorboard~=2.6->tensorflow>=2.5.1->gpt-2-simple) (57.4.0)\n",
            "Requirement already satisfied: markdown>=2.6.8 in /usr/local/lib/python3.7/dist-packages (from tensorboard~=2.6->tensorflow>=2.5.1->gpt-2-simple) (3.3.4)\n",
            "Requirement already satisfied: google-auth<2,>=1.6.3 in /usr/local/lib/python3.7/dist-packages (from tensorboard~=2.6->tensorflow>=2.5.1->gpt-2-simple) (1.35.0)\n",
            "Requirement already satisfied: pyasn1-modules>=0.2.1 in /usr/local/lib/python3.7/dist-packages (from google-auth<2,>=1.6.3->tensorboard~=2.6->tensorflow>=2.5.1->gpt-2-simple) (0.2.8)\n",
            "Requirement already satisfied: cachetools<5.0,>=2.0.0 in /usr/local/lib/python3.7/dist-packages (from google-auth<2,>=1.6.3->tensorboard~=2.6->tensorflow>=2.5.1->gpt-2-simple) (4.2.4)\n",
            "Requirement already satisfied: rsa<5,>=3.1.4 in /usr/local/lib/python3.7/dist-packages (from google-auth<2,>=1.6.3->tensorboard~=2.6->tensorflow>=2.5.1->gpt-2-simple) (4.7.2)\n",
            "Requirement already satisfied: requests-oauthlib>=0.7.0 in /usr/local/lib/python3.7/dist-packages (from google-auth-oauthlib<0.5,>=0.4.1->tensorboard~=2.6->tensorflow>=2.5.1->gpt-2-simple) (1.3.0)\n",
            "Requirement already satisfied: importlib-metadata in /usr/local/lib/python3.7/dist-packages (from markdown>=2.6.8->tensorboard~=2.6->tensorflow>=2.5.1->gpt-2-simple) (4.8.1)\n",
            "Requirement already satisfied: pyasn1<0.5.0,>=0.4.6 in /usr/local/lib/python3.7/dist-packages (from pyasn1-modules>=0.2.1->google-auth<2,>=1.6.3->tensorboard~=2.6->tensorflow>=2.5.1->gpt-2-simple) (0.4.8)\n",
            "Requirement already satisfied: chardet<4,>=3.0.2 in /usr/local/lib/python3.7/dist-packages (from requests->gpt-2-simple) (3.0.4)\n",
            "Requirement already satisfied: certifi>=2017.4.17 in /usr/local/lib/python3.7/dist-packages (from requests->gpt-2-simple) (2021.5.30)\n",
            "Requirement already satisfied: urllib3!=1.25.0,!=1.25.1,<1.26,>=1.21.1 in /usr/local/lib/python3.7/dist-packages (from requests->gpt-2-simple) (1.24.3)\n",
            "Requirement already satisfied: idna<3,>=2.5 in /usr/local/lib/python3.7/dist-packages (from requests->gpt-2-simple) (2.10)\n",
            "Requirement already satisfied: oauthlib>=3.0.0 in /usr/local/lib/python3.7/dist-packages (from requests-oauthlib>=0.7.0->google-auth-oauthlib<0.5,>=0.4.1->tensorboard~=2.6->tensorflow>=2.5.1->gpt-2-simple) (3.1.1)\n",
            "Requirement already satisfied: zipp>=0.5 in /usr/local/lib/python3.7/dist-packages (from importlib-metadata->markdown>=2.6.8->tensorboard~=2.6->tensorflow>=2.5.1->gpt-2-simple) (3.6.0)\n",
            "TensorFlow 1.x selected.\n",
            "WARNING:tensorflow:\n",
            "The TensorFlow contrib module will not be included in TensorFlow 2.0.\n",
            "For more information, please see:\n",
            "  * https://github.com/tensorflow/community/blob/master/rfcs/20180907-contrib-sunset.md\n",
            "  * https://github.com/tensorflow/addons\n",
            "  * https://github.com/tensorflow/io (for I/O related ops)\n",
            "If you depend on functionality not listed there, please file an issue.\n",
            "\n"
          ]
        }
      ]
    },
    {
      "cell_type": "code",
      "metadata": {
        "id": "6aRJ-c9uRMOa",
        "colab": {
          "base_uri": "https://localhost:8080/"
        },
        "outputId": "a3bc9db4-3b5f-4581-c25d-65ed52a32bec"
      },
      "source": [
        "# This line is necessary to be able to run a new tf session\n",
        "tf.reset_default_graph()\n",
        "# The medium-sized model. IF you run out of memory, try \"124M\" instead\n",
        "model_name = \"124M\"\n",
        "if not os.path.isdir(os.path.join(\"models\", model_name)):\n",
        "\tprint(f\"Downloading {model_name} model...\")\n",
        "\tgpt2.download_gpt2(model_name=model_name)   # model is saved into current directory under /models/124M/\n",
        "\n",
        "sess = gpt2.start_tf_sess()\n",
        "gpt2.load_gpt2(sess, model_name=model_name)\n",
        "gpt2.generate(sess, model_name=model_name)"
      ],
      "execution_count": 3,
      "outputs": [
        {
          "output_type": "stream",
          "name": "stdout",
          "text": [
            "Loading pretrained model models/124M/model.ckpt\n",
            "INFO:tensorflow:Restoring parameters from models/124M/model.ckpt\n",
            "A British police officer has been accused of sexually assaulting a young woman who refused to be taken on a police jeep to defend herself after he hit her on the head with a train car.\n",
            "\n",
            "The officer, who was involved in a cross-country swim in the Isle of Man, was arrested in August following his arrest after a woman accused him of sexually assaulting her in front of him during a cross-country summer trip in Crete in 2012.\n",
            "\n",
            "The 31-year-old was subsequently charged with two counts of sexual assault and two counts of indecent exposure.\n",
            "\n",
            "The case is being investigated by British police and the force said the incident happened during a cross-country bus ride in Crete.\n",
            "\n",
            "The incident happened at around 10.45pm on the third day of the trip, as the woman was travelling to her vacation home in Kyiv.\n",
            "\n",
            "She said the officer grabbed her hand and tried to stop her.\n",
            "\n",
            "\"He spat and said 'grab your head and get away from me',\" the woman told the Mirror.\n",
            "\n",
            "\"He asked me if I wanted to go and I said yes. He then grabbed my hand and started to pull me up to him.\"\n",
            "\n",
            "The woman said she was then tried on the go to protect herself but was unable to walk because of the officer's \"intimidation\".\n",
            "\n",
            "\"Eventually he pulled me up and began to attack me,\" the woman said.\n",
            "\n",
            "\"I was still standing up but he started to get really angry. I turned around and realised he was trying to grab my hand.\n",
            "\n",
            "\"I felt his hand on my leg and he started to try and grab me and I didn't respond. I started to cry.\"\n",
            "\n",
            "The woman has since told the Mirror she had been assaulted while cycling in Crete.\n",
            "\n",
            "\"My trousers were ripped off and I was thrown into the street,\" she said.<|endoftext|>The spiritual gain of the Mongolian people is extremely important in making them assimilate to the world. The Mongols are constantly traveling and learning, and they are definitely not the only ones involved in these complex cultural exchanges. The Mongolian people are also equally interested in the cultural aspects of nation building and culture development.\n",
            "\n",
            "I'm sure you've heard of Mongolian society as a diverse organization, but in fact, Mongols are not the only ones trying to be the best.\n",
            "\n",
            "Mongols were involved in many different civilizations throughout history and now they're just as much part of the world of culture as ever.<|endoftext|>What you need to know about the Election Assistance Commission (EAC)\n",
            "\n",
            "The EAC's mandate is to ensure that elections are fair and that people of color are treated with dignity. It also serves as a watchdog of elections officials, who oversee elections and distribute votes in the communities they run. There are over 1,000 EAC offices in the U.S. and in some cases in Canada. EAC is tasked with reviewing elections for officials of color, as well as other minorities and local governments.\n",
            "\n",
            "To ensure that elections are fair and that people of color are treated with dignity, the EAC conducts a variety of hearings and audits across the country. These investigations are conducted in coordination with federal, state and local law enforcement agencies, civil rights and civil liberties groups, and judges and attorneys.\n",
            "\n",
            "EAC's mandate is to ensure that elections are fair and that people of color are treated with dignity. It also serves as a watchdog of elections officials, who oversee elections and distribute votes in the communities they run. There are over 1,000 EAC offices in the U.S. and in some cases in Canada. EAC is tasked with reviewing elections for officials of color, as well as other minorities and local governments. The EAC has jurisdiction over elections in 10 states, including Alabama, Arkansas, California, Colorado, Connecticut, Florida, Georgia, Illinois, Indiana, Iowa, Kansas, Kentucky, Louisiana, Maine, Massachusetts, Michigan, Minnesota, Missouri, Montana, Nebraska, Nevada, New Hampshire, New Jersey, New Mexico, New York, North Carolina, North Dakota, Ohio, Oklahoma, Pennsylvania, South Carolina, Tennessee, Texas, Utah, Virginia, Washington, West Virginia, Wisconsin and Wyoming.\n",
            "\n",
            "The EAC spends over $30 million annually to conduct and enforce elections in 25 states, including Arizona, California, Connecticut, Florida, Georgia, Indiana, Maryland, Massachusetts, Michigan, Minnesota, Missouri, New Hampshire, New Jersey, New Mexico, New York, North Carolina, North Dakota, Ohio, Oregon, Pennsylvania, South Carolina and Wyoming.\n",
            "\n",
            "EAC Education\n",
            "\n",
            "EAC Education\n",
            "\n",
            "EAC has a mission to help people of color build a better life. EAC operates in 75 states, including the District of Columbia, Maryland, Michigan, Missouri, New York, North Carolina, North Dakota, Pennsylvania, Tennessee, Virginia, Washington, West Virginia, Wisconsin and Wyoming.\n",
            "\n",
            "EAC Education Program\n",
            "\n",
            "EAC manages more than 1,000 E\n"
          ]
        }
      ]
    },
    {
      "cell_type": "markdown",
      "metadata": {
        "id": "AHmjSVf_FNHv"
      },
      "source": [
        "### 2.2 Download a text dataset"
      ]
    },
    {
      "cell_type": "markdown",
      "metadata": {
        "id": "gPXJkNubFyY6"
      },
      "source": [
        "#### TODO:"
      ]
    },
    {
      "cell_type": "markdown",
      "metadata": {
        "id": "KWkuRjbcFzwb"
      },
      "source": [
        "- Use the provided functions to download your own text dataset\n",
        "- [Project Gutenberg](https://www.gutenberg.org/) is a nice starting point for raw text corpora"
      ]
    },
    {
      "cell_type": "markdown",
      "metadata": {
        "id": "iD45m3IwF9hh"
      },
      "source": [
        "#### Download Dataset"
      ]
    },
    {
      "cell_type": "code",
      "metadata": {
        "id": "ESltl2QM5nxw",
        "colab": {
          "base_uri": "https://localhost:8080/"
        },
        "outputId": "574d1bd3-6670-4a28-8723-62418b0fdf08"
      },
      "source": [
        "import zipfile\n",
        "import os\n",
        "from torchvision import datasets\n",
        "\n",
        "def extract_zip(zip_path, remove_finished=True):\n",
        "    print('Extracting {}'.format(zip_path))\n",
        "    with zipfile.ZipFile(zip_path, 'r') as zip_ref:\n",
        "        zip_ref.extractall(zip_path.replace('.zip', ''))\n",
        "    if remove_finished:\n",
        "        os.remove(zip_path)\n",
        "\n",
        "def download_dataset(url, root='../data'):\n",
        "    if not os.path.exists(os.path.join(root, 'text')):\n",
        "        os.makedirs(os.path.join(root))\n",
        "        datasets.utils.download_url(url, root, 'text.zip', None)\n",
        "        extract_zip(os.path.join(root, 'text.zip'))\n",
        "    return os.path.join(root, 'text')\n",
        "\n",
        "##########################################\n",
        "# Set the url for your dataset here,\n",
        "# move the dataset to the desired location\n",
        "##########################################\n",
        "url = 'https://www.gutenberg.org/files/30/30.zip'\n",
        "download_dataset(url)\n",
        "!mv /data/text/30.txt /data/text/bible.txt\n",
        "!ls ../data/text"
      ],
      "execution_count": 1,
      "outputs": [
        {
          "output_type": "stream",
          "name": "stdout",
          "text": [
            "mv: cannot stat '/data/text/30.txt': No such file or directory\n",
            "bible.txt\n"
          ]
        }
      ]
    },
    {
      "cell_type": "markdown",
      "metadata": {
        "id": "usQE-rSPZq_X"
      },
      "source": [
        "### 2.3 Fine-tune GPT-2 on your own dataset"
      ]
    },
    {
      "cell_type": "markdown",
      "metadata": {
        "id": "IoA0tZZCa_1k"
      },
      "source": [
        "#### TODO:"
      ]
    },
    {
      "cell_type": "markdown",
      "metadata": {
        "id": "OoU6ML1mbgjP"
      },
      "source": [
        "- Swap out the dataset parameter with the path to your dataset"
      ]
    },
    {
      "cell_type": "markdown",
      "metadata": {
        "id": "8pa5vFJ5EUjv"
      },
      "source": [
        "#### Train on your dataset"
      ]
    },
    {
      "cell_type": "code",
      "metadata": {
        "id": "WuQ5snl4LuS0",
        "colab": {
          "base_uri": "https://localhost:8080/"
        },
        "outputId": "943cfb36-0785-4ce0-eb53-b50fd1941fad"
      },
      "source": [
        "# This line is necessary to be able to run a new tf session if one has already been run\n",
        "tf.reset_default_graph()\n",
        "# Start a session\n",
        "sess = gpt2.start_tf_sess()\n",
        "# Fine tune `model_name` on `data`\n",
        "###################################\n",
        "# Swap out the `dataset` parameter with the path to your text dataset\n",
        "###################################\n",
        "gpt2.finetune(sess,\n",
        "              dataset='../data/text/bible.txt',\n",
        "              model_name=model_name,\n",
        "              restore_from='latest',\n",
        "              steps=500)   # steps is max number of training steps\n",
        "\n",
        "gpt2.generate(sess, run_name='run1')"
      ],
      "execution_count": 4,
      "outputs": [
        {
          "output_type": "stream",
          "name": "stdout",
          "text": [
            "WARNING:tensorflow:From /usr/local/lib/python3.7/dist-packages/gpt_2_simple/src/sample.py:17: where (from tensorflow.python.ops.array_ops) is deprecated and will be removed in a future version.\n",
            "Instructions for updating:\n",
            "Use tf.where in 2.0, which has the same broadcast rule as np.where\n",
            "Loading checkpoint models/124M/model.ckpt\n",
            "INFO:tensorflow:Restoring parameters from models/124M/model.ckpt\n",
            "Loading dataset...\n"
          ]
        },
        {
          "output_type": "stream",
          "name": "stderr",
          "text": [
            "100%|██████████| 1/1 [00:08<00:00,  8.16s/it]\n"
          ]
        },
        {
          "output_type": "stream",
          "name": "stdout",
          "text": [
            "dataset has 1788810 tokens\n",
            "Training...\n",
            "[1 | 10.89] loss=2.24 avg=2.24\n",
            "[2 | 15.31] loss=2.19 avg=2.22\n",
            "[3 | 19.72] loss=2.47 avg=2.30\n",
            "[4 | 24.14] loss=2.14 avg=2.26\n",
            "[5 | 28.58] loss=1.94 avg=2.19\n",
            "[6 | 33.01] loss=1.99 avg=2.16\n",
            "[7 | 37.45] loss=2.05 avg=2.14\n",
            "[8 | 41.89] loss=1.90 avg=2.11\n",
            "[9 | 46.31] loss=2.00 avg=2.10\n",
            "[10 | 50.77] loss=1.91 avg=2.08\n",
            "[11 | 55.24] loss=1.85 avg=2.06\n",
            "[12 | 59.70] loss=1.90 avg=2.04\n",
            "[13 | 64.17] loss=1.95 avg=2.04\n",
            "[14 | 68.62] loss=1.80 avg=2.02\n",
            "[15 | 73.07] loss=1.89 avg=2.01\n",
            "[16 | 77.54] loss=1.90 avg=2.00\n",
            "[17 | 81.99] loss=1.89 avg=2.00\n",
            "[18 | 86.43] loss=1.89 avg=1.99\n",
            "[19 | 90.90] loss=1.77 avg=1.98\n",
            "[20 | 95.35] loss=1.82 avg=1.97\n",
            "[21 | 99.79] loss=1.85 avg=1.96\n",
            "[22 | 104.22] loss=1.76 avg=1.95\n",
            "[23 | 108.69] loss=1.75 avg=1.94\n",
            "[24 | 113.14] loss=1.64 avg=1.93\n",
            "[25 | 117.57] loss=1.75 avg=1.92\n",
            "[26 | 122.00] loss=1.79 avg=1.91\n",
            "[27 | 126.46] loss=1.89 avg=1.91\n",
            "[28 | 130.89] loss=1.62 avg=1.90\n",
            "[29 | 135.35] loss=1.70 avg=1.89\n",
            "[30 | 139.81] loss=1.70 avg=1.89\n",
            "[31 | 144.25] loss=1.78 avg=1.88\n",
            "[32 | 148.70] loss=1.84 avg=1.88\n",
            "[33 | 153.14] loss=1.81 avg=1.88\n",
            "[34 | 157.58] loss=1.80 avg=1.87\n",
            "[35 | 162.03] loss=1.74 avg=1.87\n",
            "[36 | 166.46] loss=1.85 avg=1.87\n",
            "[37 | 170.89] loss=1.73 avg=1.87\n",
            "[38 | 175.33] loss=1.53 avg=1.85\n",
            "[39 | 179.79] loss=1.71 avg=1.85\n",
            "[40 | 184.24] loss=1.67 avg=1.84\n",
            "[41 | 188.68] loss=1.66 avg=1.84\n",
            "[42 | 193.12] loss=1.58 avg=1.83\n",
            "[43 | 197.56] loss=1.70 avg=1.83\n",
            "[44 | 202.00] loss=1.60 avg=1.82\n",
            "[45 | 206.46] loss=1.66 avg=1.82\n",
            "[46 | 210.91] loss=1.65 avg=1.81\n",
            "[47 | 215.34] loss=1.67 avg=1.81\n",
            "[48 | 219.78] loss=1.70 avg=1.81\n",
            "[49 | 224.23] loss=1.69 avg=1.80\n",
            "[50 | 228.68] loss=1.70 avg=1.80\n",
            "[51 | 233.11] loss=1.84 avg=1.80\n",
            "[52 | 237.57] loss=1.64 avg=1.80\n",
            "[53 | 242.00] loss=1.85 avg=1.80\n",
            "[54 | 246.46] loss=1.73 avg=1.80\n",
            "[55 | 250.90] loss=1.65 avg=1.79\n",
            "[56 | 255.35] loss=1.71 avg=1.79\n",
            "[57 | 259.80] loss=1.54 avg=1.79\n",
            "[58 | 264.22] loss=1.64 avg=1.78\n",
            "[59 | 268.68] loss=1.83 avg=1.78\n",
            "[60 | 273.12] loss=1.80 avg=1.78\n",
            "[61 | 277.56] loss=1.60 avg=1.78\n",
            "[62 | 282.01] loss=1.80 avg=1.78\n",
            "[63 | 286.44] loss=1.75 avg=1.78\n",
            "[64 | 290.89] loss=1.62 avg=1.78\n",
            "[65 | 295.33] loss=1.71 avg=1.78\n",
            "[66 | 299.77] loss=1.75 avg=1.77\n",
            "[67 | 304.21] loss=1.62 avg=1.77\n",
            "[68 | 308.66] loss=1.74 avg=1.77\n",
            "[69 | 313.08] loss=1.64 avg=1.77\n",
            "[70 | 317.53] loss=1.79 avg=1.77\n",
            "[71 | 321.98] loss=1.64 avg=1.77\n",
            "[72 | 326.44] loss=1.65 avg=1.76\n",
            "[73 | 330.90] loss=1.66 avg=1.76\n",
            "[74 | 335.36] loss=1.63 avg=1.76\n",
            "[75 | 339.82] loss=1.58 avg=1.76\n",
            "[76 | 344.26] loss=1.71 avg=1.76\n",
            "[77 | 348.71] loss=1.73 avg=1.75\n",
            "[78 | 353.17] loss=1.65 avg=1.75\n",
            "[79 | 357.61] loss=1.68 avg=1.75\n",
            "[80 | 362.07] loss=1.79 avg=1.75\n",
            "[81 | 366.52] loss=1.79 avg=1.75\n",
            "[82 | 370.96] loss=1.76 avg=1.75\n",
            "[83 | 375.42] loss=1.64 avg=1.75\n",
            "[84 | 379.86] loss=1.59 avg=1.75\n",
            "[85 | 384.31] loss=1.60 avg=1.75\n",
            "[86 | 388.75] loss=1.69 avg=1.74\n",
            "[87 | 393.17] loss=1.72 avg=1.74\n",
            "[88 | 397.60] loss=1.67 avg=1.74\n",
            "[89 | 402.07] loss=1.68 avg=1.74\n",
            "[90 | 406.51] loss=1.58 avg=1.74\n",
            "[91 | 410.95] loss=1.85 avg=1.74\n",
            "[92 | 415.42] loss=1.68 avg=1.74\n",
            "[93 | 419.87] loss=1.42 avg=1.73\n",
            "[94 | 424.32] loss=1.62 avg=1.73\n",
            "[95 | 428.73] loss=1.52 avg=1.73\n",
            "[96 | 433.17] loss=1.56 avg=1.73\n",
            "[97 | 437.61] loss=1.70 avg=1.73\n",
            "[98 | 442.05] loss=1.63 avg=1.72\n",
            "[99 | 446.49] loss=1.63 avg=1.72\n",
            "[100 | 450.94] loss=1.78 avg=1.72\n",
            "======== SAMPLE 1 ========\n",
            " going            of their own hand and their hand alone.\n",
            "\n",
            "09:028:009 And when his heart came to the LORD, and saw the words which the LORD\n",
            "           said unto him, I saw a man that was very sick; and with this\n",
            "           kindness I delivered him from them.\n",
            "\n",
            "09:028:010 And the LORD spake unto him concerning his father David, saying,\n",
            "\n",
            "09:028:011 Who art the son of David, the son of his servant David?\n",
            "\n",
            "09:028:012 Neither could I teach him the art of the house of David; and I\n",
            "           had no desire to save him from death!\n",
            "\n",
            "09:028:013 I was the son of my father David, in the power of Almighty God: and\n",
            "           he was not ashamed:\n",
            "\n",
            "09:028:014 That if he should choose that of many, I say unto him, he shall be\n",
            "           a king of good in the sight of the LORD, and a ruler over\n",
            "           his own people.\n",
            "\n",
            "09:028:015 And I will send unto you also this decree in David's stead to prevent\n",
            "           Israel from entering into the captivity of the Assyrians:\n",
            "           they will not be caught: for as one king will take away those\n",
            "           captives from a nation, so will I take away the captivity of\n",
            "           Israel, that every one will eat.\n",
            "\n",
            "09:028:016 And David, having said this word in writing, went and\n",
            "           gathered the captives unto himself, and gathered all the people unto\n",
            "           him.\n",
            "\n",
            "09:028:017 And all the congregation gathered at the door of the house, and\n",
            "           said, Lord: Behold I make you to be strangers unto the\n",
            "           LORD thy God, and a stranger unto me: I will let thee be\n",
            "           an inhabitant among you.\n",
            "\n",
            "09:028:018 All you have been strangers unto the LORD in this city; but now shall\n",
            "           I return unto you and make thee of your servants my servants.\n",
            "\n",
            "09:028:019 And the LORD said unto David, Let thy servant go from the house of\n",
            "           David; and let thy servants depart to Bethnath: he will\n",
            "           make thee all his own inhabitants: therefore the LORD am my saviour;\n",
            "           shall have mercy on him. And David said unto David, I will give thee this\n",
            "           promise:\n",
            "\n",
            "09:028:020 Let him go from Bethnath: wherefore shall not thy servant go? and\n",
            "           and if thou dost not say, If they go, then let this man go? for\n",
            "           no one shall touch him: for though he be in thy sight with an\n",
            "           wickedness, yet he will surely slay him.\n",
            "\n",
            "09:028:021 And David said unto the LORD, God hath given me this house, and\n",
            "           no more shall I come to Bethnath for this work: to this land shall I\n",
            "           cast all my children, not on the field or the bed, but in the\n",
            "           streets of the city: so that no man shall come in with me to\n",
            "           Bethnath.\n",
            "\n",
            "09:028:022 And when David had taken an oath, which had come upon David by night from\n",
            "           his mouth, he took his tongue unto the LORD; and when the LORD had\n",
            "           cast it inwards, David said unto him, There is no deceit! what is\n",
            "           deceit? I see a man made to deceive, and therefore hath I cast him in\n",
            "    \n",
            "\n",
            "[101 | 473.62] loss=1.55 avg=1.72\n",
            "[102 | 478.07] loss=1.54 avg=1.72\n",
            "[103 | 482.51] loss=1.69 avg=1.72\n",
            "[104 | 486.96] loss=1.73 avg=1.72\n",
            "[105 | 491.41] loss=1.79 avg=1.72\n",
            "[106 | 495.84] loss=1.77 avg=1.72\n",
            "[107 | 500.29] loss=1.50 avg=1.72\n",
            "[108 | 504.75] loss=1.59 avg=1.72\n",
            "[109 | 509.20] loss=1.59 avg=1.71\n",
            "[110 | 513.63] loss=1.73 avg=1.71\n",
            "[111 | 518.07] loss=1.56 avg=1.71\n",
            "[112 | 522.50] loss=1.54 avg=1.71\n",
            "[113 | 526.95] loss=1.64 avg=1.71\n",
            "[114 | 531.39] loss=1.80 avg=1.71\n",
            "[115 | 535.83] loss=1.58 avg=1.71\n",
            "[116 | 540.27] loss=1.69 avg=1.71\n",
            "[117 | 544.70] loss=1.78 avg=1.71\n",
            "[118 | 549.14] loss=1.48 avg=1.70\n",
            "[119 | 553.57] loss=1.65 avg=1.70\n",
            "[120 | 558.01] loss=1.78 avg=1.71\n",
            "[121 | 562.44] loss=1.61 avg=1.70\n",
            "[122 | 566.86] loss=1.63 avg=1.70\n",
            "[123 | 571.32] loss=1.60 avg=1.70\n",
            "[124 | 575.78] loss=1.65 avg=1.70\n",
            "[125 | 580.21] loss=1.69 avg=1.70\n",
            "[126 | 584.65] loss=1.53 avg=1.70\n",
            "[127 | 589.09] loss=1.66 avg=1.70\n",
            "[128 | 593.55] loss=1.68 avg=1.70\n",
            "[129 | 598.00] loss=1.69 avg=1.70\n",
            "[130 | 602.45] loss=1.80 avg=1.70\n",
            "[131 | 606.90] loss=1.54 avg=1.70\n",
            "[132 | 611.35] loss=1.75 avg=1.70\n",
            "[133 | 615.78] loss=1.57 avg=1.70\n",
            "[134 | 620.23] loss=1.68 avg=1.70\n",
            "[135 | 624.66] loss=1.66 avg=1.70\n",
            "[136 | 629.10] loss=1.64 avg=1.69\n",
            "[137 | 633.52] loss=1.67 avg=1.69\n",
            "[138 | 637.98] loss=1.53 avg=1.69\n",
            "[139 | 642.43] loss=1.71 avg=1.69\n",
            "[140 | 646.88] loss=1.55 avg=1.69\n",
            "[141 | 651.31] loss=1.49 avg=1.69\n",
            "[142 | 655.75] loss=1.66 avg=1.69\n",
            "[143 | 660.20] loss=1.76 avg=1.69\n",
            "[144 | 664.64] loss=1.56 avg=1.69\n",
            "[145 | 669.08] loss=1.66 avg=1.69\n",
            "[146 | 673.54] loss=1.64 avg=1.69\n",
            "[147 | 677.99] loss=1.72 avg=1.69\n",
            "[148 | 682.43] loss=1.65 avg=1.69\n",
            "[149 | 686.88] loss=1.61 avg=1.68\n",
            "[150 | 691.30] loss=1.55 avg=1.68\n",
            "[151 | 695.75] loss=1.50 avg=1.68\n",
            "[152 | 700.20] loss=1.58 avg=1.68\n",
            "[153 | 704.65] loss=1.69 avg=1.68\n",
            "[154 | 709.10] loss=1.51 avg=1.68\n",
            "[155 | 713.55] loss=1.68 avg=1.68\n",
            "[156 | 717.98] loss=1.81 avg=1.68\n",
            "[157 | 722.42] loss=1.63 avg=1.68\n",
            "[158 | 726.86] loss=1.85 avg=1.68\n",
            "[159 | 731.31] loss=1.56 avg=1.68\n",
            "[160 | 735.75] loss=1.63 avg=1.68\n",
            "[161 | 740.20] loss=1.46 avg=1.68\n",
            "[162 | 744.64] loss=1.61 avg=1.67\n",
            "[163 | 749.09] loss=1.59 avg=1.67\n",
            "[164 | 753.52] loss=1.62 avg=1.67\n",
            "[165 | 757.98] loss=1.70 avg=1.67\n",
            "[166 | 762.44] loss=1.59 avg=1.67\n",
            "[167 | 766.87] loss=1.60 avg=1.67\n",
            "[168 | 771.32] loss=1.67 avg=1.67\n",
            "[169 | 775.77] loss=1.49 avg=1.67\n",
            "[170 | 780.20] loss=1.60 avg=1.67\n",
            "[171 | 784.66] loss=1.54 avg=1.67\n",
            "[172 | 789.09] loss=1.67 avg=1.67\n",
            "[173 | 793.54] loss=1.53 avg=1.67\n",
            "[174 | 797.99] loss=1.62 avg=1.66\n",
            "[175 | 802.44] loss=1.86 avg=1.67\n",
            "[176 | 806.89] loss=1.51 avg=1.67\n",
            "[177 | 811.33] loss=1.74 avg=1.67\n",
            "[178 | 815.76] loss=1.57 avg=1.66\n",
            "[179 | 820.19] loss=1.60 avg=1.66\n",
            "[180 | 824.62] loss=1.50 avg=1.66\n",
            "[181 | 829.07] loss=1.45 avg=1.66\n",
            "[182 | 833.51] loss=1.35 avg=1.66\n",
            "[183 | 837.95] loss=1.57 avg=1.65\n",
            "[184 | 842.40] loss=1.60 avg=1.65\n",
            "[185 | 846.84] loss=1.64 avg=1.65\n",
            "[186 | 851.31] loss=1.64 avg=1.65\n",
            "[187 | 855.75] loss=1.52 avg=1.65\n",
            "[188 | 860.20] loss=1.51 avg=1.65\n",
            "[189 | 864.64] loss=1.64 avg=1.65\n",
            "[190 | 869.08] loss=1.60 avg=1.65\n",
            "[191 | 873.53] loss=1.65 avg=1.65\n",
            "[192 | 877.99] loss=1.69 avg=1.65\n",
            "[193 | 882.43] loss=1.44 avg=1.65\n",
            "[194 | 886.89] loss=1.45 avg=1.65\n",
            "[195 | 891.34] loss=1.62 avg=1.65\n",
            "[196 | 895.79] loss=1.64 avg=1.65\n",
            "[197 | 900.25] loss=1.53 avg=1.64\n",
            "[198 | 904.69] loss=1.70 avg=1.64\n",
            "[199 | 909.14] loss=1.56 avg=1.64\n",
            "[200 | 913.59] loss=1.53 avg=1.64\n",
            "======== SAMPLE 1 ========\n",
            "         and shall make the LORD to make a mighty man for you;\n",
            "           and all the people of the land to see it:\n",
            "\n",
            "11:009:003 And the LORD shall make the land to go up, as the land which the gods\n",
            "           of Egypt had given it:\n",
            "\n",
            "11:009:004 And the kings of the land shall go out to meet the gods,\n",
            "           and say, Come on, let the LORD let the gods of the land\n",
            "           go out: for no man can come down to that day to anoint\n",
            "           himself: for the God of the LORD is with the Egyptians.\n",
            "\n",
            "11:009:005 And then shall the people of the land speak, saying, This land was\n",
            "           made by the LORD, and shall become the land of Israel's possession:\n",
            "           and their land shall be their land.\n",
            "\n",
            "11:009:006 For the king of the Babylonians brought to this land that\n",
            "           is upon the sea: and there they sold their vineyards which the\n",
            "           gods had prepared unto the kings of the land unto the king's\n",
            "           servants.\n",
            "\n",
            "11:009:007 And I have also called the king's servants to look up the\n",
            "           land.\n",
            "\n",
            "11:009:008 And they shall say, The land is the land of Israel's\n",
            "           possession, and all the cattle which it is: it shall be the\n",
            "           land of Israel's possession.\n",
            "\n",
            "11:009:009 And they are to ask, saying, Is there any thing more\n",
            "           there of which we have passed by?\n",
            "\n",
            "11:009:010 Behold, I have brought a word to them, saying, Go\n",
            "           down down from there, and give them the word which\n",
            "           there is that we have spoken, saying, Take\n",
            "           the word out; let them come back, and teach the words\n",
            "           of it unto the children of the children of Israel.\n",
            "\n",
            "11:009:011 And the LORD shall speak with their lips, and they shall speak\n",
            "           according to it with great effect: and the LORD shall judge it\n",
            "           according to that which it is.\n",
            "\n",
            "11:009:012 And they that have ears to hear shall say, Behold,\n",
            "           thou, the LORD our God, do judge it according to\n",
            "           what thou wast afraid of, and know not what thou\n",
            "           shall do.\n",
            "\n",
            "11:009:013 Moreover the LORD shall speak unto the people of the land which is\n",
            "           under my possession: and the LORD will also say,\n",
            "\n",
            "11:009:014 The land which the LORD have spoken of by thee in the\n",
            "           night, and which thou hast spied through the night, is the land\n",
            "           under thy possession the LORD putteth under my\n",
            "           possession.\n",
            "\n",
            "11:009:015 The land which the LORD hath spoken of in the night: but the land,\n",
            "           which the LORD have not heard, is not under their\n",
            "           possession: and if thou behold it, take it from thee, and\n",
            "           sell it to the people.\n",
            "\n",
            "11:009:016 And the people shall rise up, and declare unto the people that\n",
            "           the land which the LORD hath spoken of, and which thou\n",
            "           have seen from under thy land, is the land of the\n",
            "           Amalekites of Chittim.\n",
            "\n",
            "11:009:017 Therefore thou shalt not bring thine enemies before\n",
            "\n",
            "[201 | 934.60] loss=1.75 avg=1.64\n",
            "[202 | 939.06] loss=1.61 avg=1.64\n",
            "[203 | 943.51] loss=1.46 avg=1.64\n",
            "[204 | 947.96] loss=1.58 avg=1.64\n",
            "[205 | 952.41] loss=1.58 avg=1.64\n",
            "[206 | 956.86] loss=1.58 avg=1.64\n",
            "[207 | 961.31] loss=1.65 avg=1.64\n",
            "[208 | 965.75] loss=1.61 avg=1.64\n",
            "[209 | 970.21] loss=1.55 avg=1.64\n",
            "[210 | 974.67] loss=1.50 avg=1.64\n",
            "[211 | 979.13] loss=1.68 avg=1.64\n",
            "[212 | 983.57] loss=1.64 avg=1.64\n",
            "[213 | 988.01] loss=1.57 avg=1.64\n",
            "[214 | 992.44] loss=1.62 avg=1.64\n",
            "[215 | 996.89] loss=1.66 avg=1.64\n",
            "[216 | 1001.34] loss=1.57 avg=1.64\n",
            "[217 | 1005.79] loss=1.71 avg=1.64\n",
            "[218 | 1010.24] loss=1.64 avg=1.64\n",
            "[219 | 1014.69] loss=1.60 avg=1.64\n",
            "[220 | 1019.13] loss=1.77 avg=1.64\n",
            "[221 | 1023.58] loss=1.68 avg=1.64\n",
            "[222 | 1028.02] loss=1.64 avg=1.64\n",
            "[223 | 1032.46] loss=1.67 avg=1.64\n",
            "[224 | 1036.91] loss=1.52 avg=1.64\n",
            "[225 | 1041.36] loss=1.71 avg=1.64\n",
            "[226 | 1045.82] loss=1.71 avg=1.64\n",
            "[227 | 1050.27] loss=1.53 avg=1.64\n",
            "[228 | 1054.72] loss=1.57 avg=1.64\n",
            "[229 | 1059.16] loss=1.53 avg=1.64\n",
            "[230 | 1063.62] loss=1.36 avg=1.63\n",
            "[231 | 1068.07] loss=1.50 avg=1.63\n",
            "[232 | 1072.51] loss=1.42 avg=1.63\n",
            "[233 | 1076.97] loss=1.62 avg=1.63\n",
            "[234 | 1081.41] loss=1.66 avg=1.63\n",
            "[235 | 1085.85] loss=1.61 avg=1.63\n",
            "[236 | 1090.30] loss=1.61 avg=1.63\n",
            "[237 | 1094.74] loss=1.60 avg=1.63\n",
            "[238 | 1099.19] loss=1.51 avg=1.63\n",
            "[239 | 1103.63] loss=1.51 avg=1.63\n",
            "[240 | 1108.07] loss=1.72 avg=1.63\n",
            "[241 | 1112.51] loss=1.41 avg=1.62\n",
            "[242 | 1116.93] loss=1.43 avg=1.62\n",
            "[243 | 1121.36] loss=1.71 avg=1.62\n",
            "[244 | 1125.81] loss=1.45 avg=1.62\n",
            "[245 | 1130.25] loss=1.43 avg=1.62\n",
            "[246 | 1134.69] loss=1.31 avg=1.62\n",
            "[247 | 1139.12] loss=1.56 avg=1.62\n",
            "[248 | 1143.56] loss=1.46 avg=1.61\n",
            "[249 | 1148.00] loss=1.69 avg=1.61\n",
            "[250 | 1152.44] loss=1.61 avg=1.61\n",
            "[251 | 1156.89] loss=1.47 avg=1.61\n",
            "[252 | 1161.34] loss=1.57 avg=1.61\n",
            "[253 | 1165.77] loss=1.54 avg=1.61\n",
            "[254 | 1170.22] loss=1.47 avg=1.61\n",
            "[255 | 1174.66] loss=1.62 avg=1.61\n",
            "[256 | 1179.10] loss=1.60 avg=1.61\n",
            "[257 | 1183.57] loss=1.60 avg=1.61\n",
            "[258 | 1188.01] loss=1.56 avg=1.61\n",
            "[259 | 1192.44] loss=1.57 avg=1.61\n",
            "[260 | 1196.90] loss=1.56 avg=1.61\n",
            "[261 | 1201.37] loss=1.50 avg=1.61\n",
            "[262 | 1205.81] loss=1.54 avg=1.61\n",
            "[263 | 1210.26] loss=1.62 avg=1.61\n",
            "[264 | 1214.71] loss=1.48 avg=1.61\n",
            "[265 | 1219.17] loss=1.63 avg=1.61\n",
            "[266 | 1223.63] loss=1.60 avg=1.61\n",
            "[267 | 1228.10] loss=1.61 avg=1.61\n",
            "[268 | 1232.54] loss=1.49 avg=1.60\n",
            "[269 | 1236.98] loss=1.59 avg=1.60\n",
            "[270 | 1241.45] loss=1.51 avg=1.60\n",
            "[271 | 1245.89] loss=1.41 avg=1.60\n",
            "[272 | 1250.33] loss=1.72 avg=1.60\n",
            "[273 | 1254.79] loss=1.62 avg=1.60\n",
            "[274 | 1259.23] loss=1.63 avg=1.60\n",
            "[275 | 1263.69] loss=1.41 avg=1.60\n",
            "[276 | 1268.13] loss=1.50 avg=1.60\n",
            "[277 | 1272.58] loss=1.49 avg=1.60\n",
            "[278 | 1277.05] loss=1.46 avg=1.60\n",
            "[279 | 1281.49] loss=1.46 avg=1.60\n",
            "[280 | 1285.95] loss=1.51 avg=1.59\n",
            "[281 | 1290.40] loss=1.66 avg=1.60\n",
            "[282 | 1294.86] loss=1.25 avg=1.59\n",
            "[283 | 1299.31] loss=1.53 avg=1.59\n",
            "[284 | 1303.75] loss=1.55 avg=1.59\n",
            "[285 | 1308.21] loss=1.55 avg=1.59\n",
            "[286 | 1312.67] loss=1.62 avg=1.59\n",
            "[287 | 1317.12] loss=1.55 avg=1.59\n",
            "[288 | 1321.56] loss=1.48 avg=1.59\n",
            "[289 | 1326.01] loss=1.58 avg=1.59\n",
            "[290 | 1330.48] loss=1.37 avg=1.59\n",
            "[291 | 1334.95] loss=1.48 avg=1.59\n",
            "[292 | 1339.41] loss=1.57 avg=1.59\n",
            "[293 | 1343.88] loss=1.44 avg=1.58\n",
            "[294 | 1348.34] loss=1.50 avg=1.58\n",
            "[295 | 1352.79] loss=1.48 avg=1.58\n",
            "[296 | 1357.24] loss=1.31 avg=1.58\n",
            "[297 | 1361.70] loss=1.42 avg=1.58\n",
            "[298 | 1366.16] loss=1.62 avg=1.58\n",
            "[299 | 1370.61] loss=1.53 avg=1.58\n",
            "[300 | 1375.07] loss=1.61 avg=1.58\n",
            "======== SAMPLE 1 ========\n",
            " we unto this day.\n",
            "\n",
            "04:012:028 But after this day a thousand times the number of the\n",
            "           thousand, was the number of it increased tenfold unto the\n",
            "           number of thine house.\n",
            "\n",
            "04:012:029 It is a mark of the house of Israel, which it was sanctified for\n",
            "           Israel.\n",
            "\n",
            "04:012:030 Howbeit then did every stone of the house which was\n",
            "           there break down, and it was consumed every day in the\n",
            "           holy ground.\n",
            "\n",
            "04:012:031 And the number of the thousand stood tenfold, as the number from\n",
            "           before was ten in the month of Jerubah, and ten and one in\n",
            "           Jerubah.\n",
            "\n",
            "04:012:032 The number which was taken was ten in the month of Jerubah, and\n",
            "           ten and one in Jerubah: it was the number which was taken in\n",
            "           Jerubah twenty and thirty pieces of silver, which the LORD\n",
            "           had broken.\n",
            "\n",
            "04:012:033 The number which was taken was ten pieces of silver, and twenty, nine\n",
            "           pieces of gold with pieces of silver, and silver pieces of\n",
            "           gold with pieces of gold.\n",
            "\n",
            "04:012:034 The number of the thousand was twenty and five pieces of silver, and\n",
            "           twenty pieces of gold with pieces of silver;\n",
            "\n",
            "04:012:035 By these and by forty pieces of silver and twenty pieces of\n",
            "           gold and five pieces of bronze.\n",
            "\n",
            "04:012:036 To have the number ten and two, two and four hundred\n",
            "           and fifty pieces of silver.\n",
            "\n",
            "04:012:037 And these and by forty pieces of silver and ten pieces of\n",
            "           gold and ten and seven pieces of iron.\n",
            "\n",
            "04:012:038 These and in the tenth and thirtieth piece of silver were ten\n",
            "           thousand pieces of silver.\n",
            "\n",
            "04:012:039 The twenty-five pieces of silver of which were taken were sixteen\n",
            "           thousand pieces of silver: and this, according to all the\n",
            "           number of the number of the thousand, and thirty and one pieces\n",
            "           of gold, and five pieces of iron.\n",
            "\n",
            "04:012:040 Thirty pieces of silver of which were taken was twenty and five\n",
            "           thousand pieces of silver: and this, according to all the\n",
            "           number of the number of the thousand, and thirty and two pieces of\n",
            "           silver.\n",
            "\n",
            "04:012:041 One piece came to the hand of the hand of the master of the house of\n",
            "           Israel, and four came unto the hand of the hand of the master of\n",
            "           the house of Israel, and eight came from the hand of the hands\n",
            "           of the hand of the hand of the king of Assyria.\n",
            "\n",
            "04:012:042 At that hour the LORD the God gave unto the hand of the\n",
            "           LORD of hosts of Abraham, and to the hand of the hand of the\n",
            "           hand of Judah, until all things were fulfilled.\n",
            "\n",
            "04:012:043 And the king of Israel brought a covenant with the LORD of his\n",
            "           hosts, and Abraham had given to the king of Judah\n",
            "           for an covenant that would bring peace into Egypt, and for\n",
            "           a promise that would make the LORD his God his keeper,\n",
            "           throughout all his generations: for all thy fathers have\n",
            "           given a covenant with the LORD of their fathers.\n",
            "\n",
            "\n",
            "[301 | 1396.24] loss=1.54 avg=1.58\n",
            "[302 | 1400.72] loss=1.50 avg=1.58\n",
            "[303 | 1405.18] loss=1.48 avg=1.58\n",
            "[304 | 1409.64] loss=1.52 avg=1.57\n",
            "[305 | 1414.08] loss=1.45 avg=1.57\n",
            "[306 | 1418.52] loss=1.63 avg=1.57\n",
            "[307 | 1422.96] loss=1.64 avg=1.57\n",
            "[308 | 1427.40] loss=1.66 avg=1.58\n",
            "[309 | 1431.85] loss=1.74 avg=1.58\n",
            "[310 | 1436.30] loss=1.47 avg=1.58\n",
            "[311 | 1440.76] loss=1.55 avg=1.58\n",
            "[312 | 1445.21] loss=1.44 avg=1.57\n",
            "[313 | 1449.66] loss=1.50 avg=1.57\n",
            "[314 | 1454.10] loss=1.60 avg=1.57\n",
            "[315 | 1458.55] loss=1.44 avg=1.57\n",
            "[316 | 1463.01] loss=1.57 avg=1.57\n",
            "[317 | 1467.46] loss=1.59 avg=1.57\n",
            "[318 | 1471.93] loss=1.63 avg=1.57\n",
            "[319 | 1476.39] loss=1.58 avg=1.57\n",
            "[320 | 1480.83] loss=1.66 avg=1.57\n",
            "[321 | 1485.28] loss=1.58 avg=1.57\n",
            "[322 | 1489.72] loss=1.54 avg=1.57\n",
            "[323 | 1494.17] loss=1.61 avg=1.57\n",
            "[324 | 1498.63] loss=1.45 avg=1.57\n",
            "[325 | 1503.08] loss=1.72 avg=1.57\n",
            "[326 | 1507.53] loss=1.48 avg=1.57\n",
            "[327 | 1511.98] loss=1.55 avg=1.57\n",
            "[328 | 1516.43] loss=1.58 avg=1.57\n",
            "[329 | 1520.88] loss=1.58 avg=1.57\n",
            "[330 | 1525.32] loss=1.47 avg=1.57\n",
            "[331 | 1529.77] loss=1.61 avg=1.57\n",
            "[332 | 1534.24] loss=1.57 avg=1.57\n",
            "[333 | 1538.69] loss=1.62 avg=1.57\n",
            "[334 | 1543.13] loss=1.48 avg=1.57\n",
            "[335 | 1547.59] loss=1.53 avg=1.57\n",
            "[336 | 1552.06] loss=1.42 avg=1.57\n",
            "[337 | 1556.52] loss=1.50 avg=1.57\n",
            "[338 | 1560.97] loss=1.52 avg=1.57\n",
            "[339 | 1565.43] loss=1.44 avg=1.57\n",
            "[340 | 1569.88] loss=1.34 avg=1.57\n",
            "[341 | 1574.34] loss=1.51 avg=1.57\n",
            "[342 | 1578.79] loss=1.73 avg=1.57\n",
            "[343 | 1583.24] loss=1.58 avg=1.57\n",
            "[344 | 1587.67] loss=1.58 avg=1.57\n",
            "[345 | 1592.12] loss=1.36 avg=1.56\n",
            "[346 | 1596.57] loss=1.44 avg=1.56\n",
            "[347 | 1601.04] loss=1.43 avg=1.56\n",
            "[348 | 1605.50] loss=1.27 avg=1.56\n",
            "[349 | 1609.94] loss=1.45 avg=1.56\n",
            "[350 | 1614.37] loss=1.45 avg=1.56\n",
            "[351 | 1618.82] loss=1.48 avg=1.56\n",
            "[352 | 1623.29] loss=1.50 avg=1.56\n",
            "[353 | 1627.73] loss=1.53 avg=1.56\n",
            "[354 | 1632.19] loss=1.47 avg=1.55\n",
            "[355 | 1636.65] loss=1.50 avg=1.55\n",
            "[356 | 1641.12] loss=1.54 avg=1.55\n",
            "[357 | 1645.58] loss=1.51 avg=1.55\n",
            "[358 | 1650.03] loss=1.57 avg=1.55\n",
            "[359 | 1654.49] loss=1.56 avg=1.55\n",
            "[360 | 1658.95] loss=1.44 avg=1.55\n",
            "[361 | 1663.41] loss=1.41 avg=1.55\n",
            "[362 | 1667.86] loss=1.50 avg=1.55\n",
            "[363 | 1672.33] loss=1.47 avg=1.55\n",
            "[364 | 1676.78] loss=1.47 avg=1.55\n",
            "[365 | 1681.24] loss=1.54 avg=1.55\n",
            "[366 | 1685.70] loss=1.62 avg=1.55\n",
            "[367 | 1690.14] loss=1.60 avg=1.55\n",
            "[368 | 1694.59] loss=1.46 avg=1.55\n",
            "[369 | 1699.04] loss=1.49 avg=1.55\n",
            "[370 | 1703.48] loss=1.48 avg=1.55\n",
            "[371 | 1707.94] loss=1.67 avg=1.55\n",
            "[372 | 1712.40] loss=1.48 avg=1.55\n",
            "[373 | 1716.84] loss=1.49 avg=1.55\n",
            "[374 | 1721.28] loss=1.61 avg=1.55\n",
            "[375 | 1725.74] loss=1.44 avg=1.55\n",
            "[376 | 1730.21] loss=1.54 avg=1.55\n",
            "[377 | 1734.68] loss=1.51 avg=1.55\n",
            "[378 | 1739.13] loss=1.51 avg=1.55\n",
            "[379 | 1743.60] loss=1.41 avg=1.54\n",
            "[380 | 1748.05] loss=1.52 avg=1.54\n",
            "[381 | 1752.52] loss=1.62 avg=1.55\n",
            "[382 | 1756.98] loss=1.46 avg=1.54\n",
            "[383 | 1761.44] loss=1.30 avg=1.54\n",
            "[384 | 1765.90] loss=1.54 avg=1.54\n",
            "[385 | 1770.34] loss=1.45 avg=1.54\n",
            "[386 | 1774.82] loss=1.37 avg=1.54\n",
            "[387 | 1779.27] loss=1.63 avg=1.54\n",
            "[388 | 1783.72] loss=1.52 avg=1.54\n",
            "[389 | 1788.17] loss=1.60 avg=1.54\n",
            "[390 | 1792.63] loss=1.56 avg=1.54\n",
            "[391 | 1797.07] loss=1.44 avg=1.54\n",
            "[392 | 1801.53] loss=1.51 avg=1.54\n",
            "[393 | 1805.99] loss=1.36 avg=1.54\n",
            "[394 | 1810.44] loss=1.65 avg=1.54\n",
            "[395 | 1814.88] loss=1.61 avg=1.54\n",
            "[396 | 1819.35] loss=1.42 avg=1.54\n",
            "[397 | 1823.79] loss=1.39 avg=1.54\n",
            "[398 | 1828.26] loss=1.50 avg=1.54\n",
            "[399 | 1832.71] loss=1.39 avg=1.53\n",
            "[400 | 1837.16] loss=1.49 avg=1.53\n",
            "======== SAMPLE 1 ========\n",
            ":          when I came,\n",
            "\n",
            "03:003:001 Howbeit the men of the land, and that which went round about,\n",
            "           stood by mine house, and went out unto the sea:\n",
            "\n",
            "03:003:002 And all the people went up into their houses to visit the city.\n",
            "\n",
            "03:003:003 And Joseph spake, and said, All I know is the king which\n",
            "           set me up in the house of the king of Judah the servant,\n",
            "           unto see who is come and come into the city;\n",
            "\n",
            "03:003:004 My daughter the son of Jesse of Ammon, which came out\n",
            "           of the city unto see whether I am good;\n",
            "\n",
            "03:003:005 And she said unto him, Thou fool, behold my daughter go from my\n",
            "           place, to go into the city. And Joseph said, How long\n",
            "           then have I not seen?\n",
            "\n",
            "03:003:006 And he said unto her, How long then have I been in? And he\n",
            "           said unto her, That is a shame, if a man is good in God. (So Joseph\n",
            "           entered into the house of the king of Judah.)\n",
            "\n",
            "03:003:007 And she ran and came, and told him the matter.\n",
            "\n",
            "03:003:008 And Joseph said unto her, How long is the saying, Wherefore should\n",
            "           this woman run?\n",
            "\n",
            "03:003:009 Then went to the servants of the king of Judah, and the women,\n",
            "           and the men whom he sent unto see what they were doing; and,\n",
            "           behold, they were all in pieces, and fell in like manner to the\n",
            "           servants of the king of Judah which were in Jerusalem.\n",
            "\n",
            "03:003:010 They said in great astonishment, Why shouldest thou be as the\n",
            "           daughter of the son of Jesse?\n",
            "\n",
            "03:003:011 Then told the king of Judah all these things. And he took\n",
            "           a man and put him in, and took him in; and Joseph went away\n",
            "           in.\n",
            "\n",
            "03:003:012 And he went into the land; and was full of the oil that\n",
            "           went into him, and the oil of gold that went into him, and\n",
            "           the oil of silver that went into him. And Joseph went\n",
            "           off, and came to the land of Israel.\n",
            "\n",
            "03:003:013 After that the men of Jerusalem were departed from the city,\n",
            "           and went on their journey. After that Joseph was full of oil,\n",
            "           and the oil of gold, and the gold of silver,\n",
            "           which went into him, and the gold of silver, that went\n",
            "           into him: and his servant Joseph went on his journey\n",
            "           to the land.\n",
            "\n",
            "03:003:014 And there went from the king of Judah, according to that\n",
            "           which Moses said unto Pharaoh, The LORD have I given thee, and\n",
            "           the LORD have I taken from thee.\n",
            "\n",
            "03:003:015 And Pharaoh said unto him, Thou fool, what a fool thou art, that\n",
            "           thou hast run out of the land which is my inheritance unto be\n",
            "           called thy son. And Joseph went up into the land of Israel\n",
            "           out of the land of Israel into Jerusalem: for he did\n",
            "           receive the oil of the inheritance of the king of Judah\n",
            "           and of the king of Judah.\n",
            "\n",
            "03:003:016 But he took this man, and took gold, and silver, and\n",
            "      \n",
            "\n",
            "[401 | 1858.15] loss=1.52 avg=1.53\n",
            "[402 | 1862.61] loss=1.52 avg=1.53\n",
            "[403 | 1867.06] loss=1.42 avg=1.53\n",
            "[404 | 1871.55] loss=1.49 avg=1.53\n",
            "[405 | 1876.02] loss=1.47 avg=1.53\n",
            "[406 | 1880.48] loss=1.40 avg=1.53\n",
            "[407 | 1884.93] loss=1.42 avg=1.53\n",
            "[408 | 1889.40] loss=1.57 avg=1.53\n",
            "[409 | 1893.85] loss=1.59 avg=1.53\n",
            "[410 | 1898.33] loss=1.48 avg=1.53\n",
            "[411 | 1902.78] loss=1.38 avg=1.53\n",
            "[412 | 1907.26] loss=1.41 avg=1.53\n",
            "[413 | 1911.71] loss=1.53 avg=1.53\n",
            "[414 | 1916.16] loss=1.50 avg=1.53\n",
            "[415 | 1920.62] loss=1.66 avg=1.53\n",
            "[416 | 1925.08] loss=1.50 avg=1.53\n",
            "[417 | 1929.55] loss=1.48 avg=1.53\n",
            "[418 | 1934.02] loss=1.46 avg=1.53\n",
            "[419 | 1938.49] loss=1.54 avg=1.53\n",
            "[420 | 1942.96] loss=1.56 avg=1.53\n",
            "[421 | 1947.41] loss=1.43 avg=1.53\n",
            "[422 | 1951.86] loss=1.80 avg=1.53\n",
            "[423 | 1956.32] loss=1.66 avg=1.53\n",
            "[424 | 1960.80] loss=1.41 avg=1.53\n",
            "[425 | 1965.27] loss=1.73 avg=1.53\n",
            "[426 | 1969.74] loss=1.48 avg=1.53\n",
            "[427 | 1974.20] loss=1.42 avg=1.53\n",
            "[428 | 1978.64] loss=1.31 avg=1.53\n",
            "[429 | 1983.11] loss=1.38 avg=1.53\n",
            "[430 | 1987.57] loss=1.68 avg=1.53\n",
            "[431 | 1992.04] loss=1.33 avg=1.53\n",
            "[432 | 1996.50] loss=1.48 avg=1.52\n",
            "[433 | 2000.97] loss=1.55 avg=1.53\n",
            "[434 | 2005.43] loss=1.56 avg=1.53\n",
            "[435 | 2009.90] loss=1.44 avg=1.52\n",
            "[436 | 2014.35] loss=1.43 avg=1.52\n",
            "[437 | 2018.81] loss=1.56 avg=1.52\n",
            "[438 | 2023.26] loss=1.54 avg=1.52\n",
            "[439 | 2027.72] loss=1.53 avg=1.52\n",
            "[440 | 2032.17] loss=1.46 avg=1.52\n",
            "[441 | 2036.62] loss=1.59 avg=1.52\n",
            "[442 | 2041.09] loss=1.55 avg=1.52\n",
            "[443 | 2045.55] loss=1.37 avg=1.52\n",
            "[444 | 2050.01] loss=1.27 avg=1.52\n",
            "[445 | 2054.47] loss=1.60 avg=1.52\n",
            "[446 | 2058.93] loss=1.44 avg=1.52\n",
            "[447 | 2063.38] loss=1.29 avg=1.52\n",
            "[448 | 2067.83] loss=1.37 avg=1.52\n",
            "[449 | 2072.27] loss=1.37 avg=1.51\n",
            "[450 | 2076.73] loss=1.65 avg=1.52\n",
            "[451 | 2081.18] loss=1.48 avg=1.52\n",
            "[452 | 2085.62] loss=1.49 avg=1.52\n",
            "[453 | 2090.09] loss=1.59 avg=1.52\n",
            "[454 | 2094.55] loss=1.60 avg=1.52\n",
            "[455 | 2099.01] loss=1.46 avg=1.52\n",
            "[456 | 2103.47] loss=1.60 avg=1.52\n",
            "[457 | 2107.92] loss=1.38 avg=1.52\n",
            "[458 | 2112.36] loss=1.58 avg=1.52\n",
            "[459 | 2116.81] loss=1.31 avg=1.51\n",
            "[460 | 2121.28] loss=1.36 avg=1.51\n",
            "[461 | 2125.73] loss=1.42 avg=1.51\n",
            "[462 | 2130.19] loss=1.45 avg=1.51\n",
            "[463 | 2134.64] loss=1.52 avg=1.51\n",
            "[464 | 2139.11] loss=1.45 avg=1.51\n",
            "[465 | 2143.56] loss=1.61 avg=1.51\n",
            "[466 | 2148.00] loss=1.48 avg=1.51\n",
            "[467 | 2152.46] loss=1.41 avg=1.51\n",
            "[468 | 2156.90] loss=1.43 avg=1.51\n",
            "[469 | 2161.35] loss=1.54 avg=1.51\n",
            "[470 | 2165.80] loss=1.38 avg=1.51\n",
            "[471 | 2170.27] loss=1.44 avg=1.51\n",
            "[472 | 2174.71] loss=1.42 avg=1.51\n",
            "[473 | 2179.15] loss=1.43 avg=1.51\n",
            "[474 | 2183.62] loss=1.41 avg=1.51\n",
            "[475 | 2188.09] loss=1.47 avg=1.51\n",
            "[476 | 2192.54] loss=1.41 avg=1.50\n",
            "[477 | 2196.98] loss=1.62 avg=1.51\n",
            "[478 | 2201.44] loss=1.34 avg=1.50\n",
            "[479 | 2205.90] loss=1.44 avg=1.50\n",
            "[480 | 2210.35] loss=1.39 avg=1.50\n",
            "[481 | 2214.79] loss=1.52 avg=1.50\n",
            "[482 | 2219.25] loss=1.52 avg=1.50\n",
            "[483 | 2223.69] loss=1.53 avg=1.50\n",
            "[484 | 2228.14] loss=1.51 avg=1.50\n",
            "[485 | 2232.59] loss=1.48 avg=1.50\n",
            "[486 | 2237.06] loss=1.38 avg=1.50\n",
            "[487 | 2241.51] loss=1.33 avg=1.50\n",
            "[488 | 2245.97] loss=1.52 avg=1.50\n",
            "[489 | 2250.42] loss=1.41 avg=1.50\n",
            "[490 | 2254.88] loss=1.43 avg=1.50\n",
            "[491 | 2259.34] loss=1.49 avg=1.50\n",
            "[492 | 2263.79] loss=1.53 avg=1.50\n",
            "[493 | 2268.25] loss=1.47 avg=1.50\n",
            "[494 | 2272.71] loss=1.47 avg=1.50\n",
            "[495 | 2277.15] loss=1.48 avg=1.50\n",
            "[496 | 2281.63] loss=1.50 avg=1.50\n",
            "[497 | 2286.08] loss=1.42 avg=1.50\n",
            "[498 | 2290.53] loss=1.37 avg=1.50\n",
            "[499 | 2295.00] loss=1.40 avg=1.49\n",
            "[500 | 2299.46] loss=1.53 avg=1.49\n",
            "Saving checkpoint/run1/model-500\n",
            "She was twelve years old when the LORD came to\n",
            "           Sheba, and she was sixteen years old when God\n",
            "           came to Sheba, when the LORD came to Sheba.\n",
            "\n",
            "23:002:017 And Sheba went into the house of Sheba, and came in to\n",
            "           Sheba, and the LORD looked, and delivered Sheba by the hand\n",
            "           of Sheba.\n",
            "\n",
            "23:002:018 And Sheba said unto The LORD, Behold, I am a son of the\n",
            "           heathen; and shall not I be your father, and ye\n",
            "           shall be my sons?\n",
            "\n",
            "23:002:019 For I am a LORD, and ye shall be my sons: and my son shall\n",
            "           be with me.\n",
            "\n",
            "23:002:020 And the LORD said unto Sheba, Behold, I say unto you, Behold, if\n",
            "           ye shall be my sons, I will deliver you out of the hand of\n",
            "           you that hate me: then I will give you a chance at your\n",
            "           inheritance, and at your inheritance of wives and children.\n",
            "\n",
            "23:002:021 And the LORD said unto Sheba, Behold, thou shalt take away\n",
            "           the hairs of my head, and shalt be called a Levite: and he\n",
            "           shall go into the mountain of the living God, and into the mountain\n",
            "           of the upright.\n",
            "\n",
            "23:002:022 And thou shalt be judgment for the house of the upright, and\n",
            "           for the house of the wicked: and\n",
            "\n",
            "23:002:023 And thou shalt be an officer for the house of the upright, and\n",
            "           a judge for the house of the upright.\n",
            "\n",
            "23:002:024 Ye shall have a testimony against me, and ye shall have a testimony\n",
            "           against me, that I am the LORD.\n",
            "\n",
            "23:002:025 And the LORD spake unto Sheba, saying,\n",
            "\n",
            "23:002:026 Make of thee an covenant with the house of the upright, and\n",
            "           with the house of the upright, and with the house of\n",
            "          upright: for this I will do, and I will make an covenant: and\n",
            "           the LORD will deliver you out of the hand of the house\n",
            "          of the upright.\n",
            "\n",
            "23:002:027 And thou shalt not fear the LORD; neither shalt thou fear the\n",
            "          LORD thy God.\n",
            "\n",
            "23:002:028 And thou shalt not make an evil covenant with the house\n",
            "          of the upright, nor with the house of the upright, nor with\n",
            "          the house of the upright, nor with the house of the\n",
            "          upright, nor with the house of the upright.\n",
            "\n",
            "23:002:029 And when thou hast made an evil covenant with them that\n",
            "          hate thee, it shall be forgiven thee: for thou shalt\n",
            "          forgive them.\n",
            "\n",
            "23:002:030 And when thou hast made an evil covenant with them that\n",
            "          love thee, it shall be forgiven thee: for thou shalt\n",
            "          forgive them.\n",
            "\n",
            "23:002:031 And when thou hast made an evil covenant with them that hate\n",
            "          thee, it shall be forgiven thee: for thou shalt\n",
            "          forgive them.\n",
            "\n",
            "23:002:032 And when thou hast forgiven them, it shall be forgiven thee\n",
            "          also: for thou shalt not forgive them.\n",
            "\n",
            "23:002:033 And thou shalt not be divided, neither shalt thou be\n",
            "          divided.\n",
            "\n",
            "23:002:034 Thou shalt not break a man's neck, neither shalt thou\n",
            "  \n"
          ]
        }
      ]
    },
    {
      "cell_type": "code",
      "metadata": {
        "id": "LObzN1_9rtGD"
      },
      "source": [
        ""
      ],
      "execution_count": null,
      "outputs": []
    }
  ]
}